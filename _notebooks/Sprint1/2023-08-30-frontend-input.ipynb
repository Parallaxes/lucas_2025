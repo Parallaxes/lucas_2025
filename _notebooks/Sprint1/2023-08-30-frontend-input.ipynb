{
 "cells": [
  {
   "cell_type": "raw",
   "metadata": {
    "vscode": {
     "languageId": "raw"
    }
   },
   "source": [
    "---\n",
    "toc: false\n",
    "title: JavaScript Input\n",
    "description: Learn input by making a grade calculator takes multiple values and does a calculation on them. User input fundamental for all projects.\n",
    "categories: [Javascript]\n",
    "permalink: /frontend/basics/input\n",
    "---"
   ]
  },
  {
   "cell_type": "raw",
   "metadata": {
    "vscode": {
     "languageId": "raw"
    }
   },
   "source": [
    "{% include nav/frontend_basics.html %}"
   ]
  },
  {
   "cell_type": "markdown",
   "metadata": {},
   "source": [
    "## HTML\n",
    "> Identify the HTML for a grade calculator;  it enables input and totals.\n",
    "\n",
    "- [DIV element](https://www.w3schools.com/tags/tag_div.asp) defines a division or a section in an HTML document. Used to divide headings, totals, and input in this example.\n",
    "- [SPAN element](https://www.w3schools.com/tags/tag_span.asp) defines a inline container within text. Used to capture different totals in this example.\n",
    "- [INPUT tag](https://www.w3schools.com/tags/tag_input.asp) specifies an input field where the user can enter data. Used to capture series of numbers in this example.\n",
    "- [ID attributes](https://www.w3schools.com/html/html_id.asp) are used by CSS for style and JavaScript for reference.  Used to update totals in this example.\n",
    "\n",
    "\n",
    "### Resources HTML\n",
    "- [HTML Tutorial](https://www.w3schools.com/html/)\n",
    "- [learn about id](https://www.washington.edu/accesscomputing/webd2/student/unit3/module5/lesson1.html)"
   ]
  },
  {
   "cell_type": "markdown",
   "metadata": {},
   "source": [
    "## JavaScript newInputLine\n",
    "> Identify the function that generates a new input line after each score is entered.\n",
    "\n",
    "### Resources createElement\n",
    "- [Create Element](https://www.w3schools.com/jsref/met_document_createelement.asp)\n",
    "- [Set Attribute](https://www.w3schools.com/jsref/met_element_setattribute.asp)"
   ]
  },
  {
   "cell_type": "markdown",
   "metadata": {},
   "source": [
    "## JavaScript calculator\n",
    "> Indentify the code below calculates the the total, count, and average of the user inputs.\n",
    "\n",
    "### Resources getElements\n",
    "- [Get Elements by ID](https://www.w3schools.com/jsref/met_document_getelementbyid.asp)\n",
    "- [Get Elements by Name](https://www.w3schools.com/jsref/met_doc_getelementsbyname.asp)\n"
   ]
  },
  {
   "cell_type": "markdown",
   "metadata": {},
   "source": [
    "## HTML Magic runs Calculator\n",
    "> The code below runs in VSCode and on Jupyter Notebook. \n",
    "- [SCRIPT tag](https://www.w3schools.com/tags/tag_script.asp) is used to embed JavaScript inside of HTML"
   ]
  },
  {
   "cell_type": "markdown",
   "metadata": {},
   "source": [
    "## Hacks\n",
    "Here are some ideas to alter this calculator.\n",
    "- Input two scores: 1.8 out of 2\n",
    "- Add title: Tool Check 1.8 out of 2\n",
    "- Format with colors or put into a table\n",
    "- Advanced, save in localstorage and repaint on load\n",
    "\n",
    "Sample Table\n",
    "\n",
    "| Assignment | Score | Maximum |\n",
    "| ---------- | ----- | ------- |\n",
    "| Tool Check |  1.8  |   2.0   |\n",
    "| Lab Notebook Check |  1.7  |   2.0   |\n",
    "| Pair Showcase |  4.7  |   5.0   |\n",
    "\n",
    "\n",
    "Here are some ideas to alter former calculator [runtime](https://nighthawkcoders.github.io/teacher/techtalk/home_style), [source](https://raw.githubusercontent.com/nighthawkcoders/teacher/main/_posts/2023-08-23-javascript-calculator.md).\n",
    "- Right justify result\n",
    "- Test conditions on small, big, and decimal numbers, report on findings. Fix issues.\n",
    "- Add the common math operation that is missing from calculator (/)\n",
    "- Advanced, implement a 1 number operation (ie SQRT) \n"
   ]
  },
  {
   "cell_type": "markdown",
   "metadata": {},
   "source": [
    "<!-- Heading -->\n",
    "<h2>Grade Calculator</h2>"
   ]
  },
  {
   "cell_type": "code",
   "execution_count": null,
   "metadata": {
    "vscode": {
     "languageId": "html"
    }
   },
   "outputs": [],
   "source": [
    "%%html\n",
    "\n",
    "<!-- Help Message -->\n",
    "<h3>Input scores, press tab to add each new number.</h3>\n",
    "<!-- Totals -->\n",
    "<ul>\n",
    "<li>\n",
    "    Total : <span id=\"total\">0.0</span>\n",
    "    Count : <span id=\"count\">0.0</span>\n",
    "    Average : <span id=\"average\">0.0</span>\n",
    "</li>\n",
    "</ul>\n",
    "<!-- Rows added using scores ID -->\n",
    "<div id=\"scores\">\n",
    "    <!-- javascript generated inputs -->\n",
    "</div>\n",
    "\n",
    "<script>\n",
    "// Executes on input event and calculates totals\n",
    "function calculator(event) {\n",
    "    var key = event.key;\n",
    "    // Check if the pressed key is the \"Tab\" key (key code 9) or \"Enter\" key (key code 13)\n",
    "    if (key === \"Tab\" || key === \"Enter\") { \n",
    "        event.preventDefault(); // Prevent default behavior (tabbing to the next element)\n",
    "   \n",
    "        var array = document.getElementsByName('score'); // setup array of scores\n",
    "        var total = 0;  // running total\n",
    "        var count = 0;  // count of input elements with valid values\n",
    "\n",
    "        for (var i = 0; i < array.length; i++) {  // iterate through array\n",
    "            var value = array[i].value;\n",
    "            if (parseFloat(value)) {\n",
    "                var parsedValue = parseFloat(value);\n",
    "                total += parsedValue;  // add to running total\n",
    "                count++;\n",
    "            }\n",
    "        }\n",
    "\n",
    "        // update totals\n",
    "        document.getElementById('total').innerHTML = total.toFixed(2); // show two decimals\n",
    "        document.getElementById('count').innerHTML = count;\n",
    "\n",
    "        if (count > 0) {\n",
    "            document.getElementById('average').innerHTML = (total / count).toFixed(2);\n",
    "        } else {\n",
    "            document.getElementById('average').innerHTML = \"0.0\";\n",
    "        }\n",
    "\n",
    "        // adds newInputLine, only if all array values satisfy parseFloat \n",
    "        if (count === document.getElementsByName('score').length) {\n",
    "            newInputLine(count); // make a new input line\n",
    "        }\n",
    "    }\n",
    "}\n",
    "\n",
    "// Creates a new input box\n",
    "function newInputLine(index) {\n",
    "\n",
    "    // Add a label for each score element\n",
    "    var title = document.createElement('label');\n",
    "    title.htmlFor = index;\n",
    "    title.innerHTML = index + \". \";    \n",
    "    document.getElementById(\"scores\").appendChild(title); // add to HTML\n",
    "\n",
    "    // Setup score element and attributes\n",
    "    var score = document.createElement(\"input\"); // input element\n",
    "    score.id =  index;  // id of input element\n",
    "    score.onkeydown = calculator // Each key triggers event (using function as a value)\n",
    "    score.type = \"number\"; // Use text type to allow typing multiple characters\n",
    "    score.name = \"score\";  // name is used to group all \"score\" elements (array)\n",
    "    score.style.textAlign = \"right\";\n",
    "    score.style.width = \"5em\";\n",
    "    document.getElementById(\"scores\").appendChild(score);  // add to HTML\n",
    "\n",
    "    // Create and add blank line after input box\n",
    "    var br = document.createElement(\"br\");  // line break element\n",
    "    document.getElementById(\"scores\").appendChild(br); // add to HTML\n",
    "\n",
    "    // Set focus on the new input line\n",
    "    document.getElementById(index).focus();\n",
    "}\n",
    "\n",
    "// Creates 1st input box on Window load\n",
    "newInputLine(0);\n",
    "\n",
    "</script>"
   ]
  },
  {
   "cell_type": "code",
   "execution_count": 1,
   "metadata": {
    "vscode": {
     "languageId": "html"
    }
   },
   "outputs": [
    {
     "data": {
      "text/html": [
       "\n",
       "<!-- Calculator Interface -->\n",
       "<h2>Enhanced Calculator</h2>\n",
       "<p>Right justify result, test conditions, add division, and implement square root operation.</p>\n",
       "\n",
       "<!-- Input and Result Display -->\n",
       "<div>\n",
       "    <input type=\"text\" id=\"display\" style=\"text-align: right; width: 100%;\" disabled>\n",
       "</div>\n",
       "\n",
       "<!-- Calculator Buttons -->\n",
       "<div>\n",
       "    <button onclick=\"appendNumber('1')\">1</button>\n",
       "    <button onclick=\"appendNumber('2')\">2</button>\n",
       "    <button onclick=\"appendNumber('3')\">3</button>\n",
       "    <button onclick=\"appendOperator('+')\">+</button>\n",
       "    <br>\n",
       "    <button onclick=\"appendNumber('4')\">4</button>\n",
       "    <button onclick=\"appendNumber('5')\">5</button>\n",
       "    <button onclick=\"appendNumber('6')\">6</button>\n",
       "    <button onclick=\"appendOperator('-')\">-</button>\n",
       "    <br>\n",
       "    <button onclick=\"appendNumber('7')\">7</button>\n",
       "    <button onclick=\"appendNumber('8')\">8</button>\n",
       "    <button onclick=\"appendNumber('9')\">9</button>\n",
       "    <button onclick=\"appendOperator('*')\">*</button>\n",
       "    <br>\n",
       "    <button onclick=\"appendNumber('0')\">0</button>\n",
       "    <button onclick=\"appendOperator('/')\">/</button>\n",
       "    <button onclick=\"calculateResult()\">=</button>\n",
       "    <button onclick=\"clearDisplay()\">C</button>\n",
       "    <br>\n",
       "    <button onclick=\"calculateSquareRoot()\">√</button>\n",
       "</div>\n",
       "\n",
       "<script>\n",
       "function appendNumber(number) {\n",
       "    document.getElementById('display').value += number;\n",
       "}\n",
       "\n",
       "function appendOperator(operator) {\n",
       "    document.getElementById('display').value += ' ' + operator + ' ';\n",
       "}\n",
       "\n",
       "function calculateResult() {\n",
       "    try {\n",
       "        document.getElementById('display').value = eval(document.getElementById('display').value).toFixed(2);\n",
       "    } catch (e) {\n",
       "        document.getElementById('display').value = 'Error';\n",
       "    }\n",
       "}\n",
       "\n",
       "function clearDisplay() {\n",
       "    document.getElementById('display').value = '';\n",
       "}\n",
       "\n",
       "function calculateSquareRoot() {\n",
       "    try {\n",
       "        document.getElementById('display').value = Math.sqrt(eval(document.getElementById('display').value)).toFixed(2);\n",
       "    } catch (e) {\n",
       "        document.getElementById('display').value = 'Error';\n",
       "    }\n",
       "}\n",
       "</script>\n"
      ],
      "text/plain": [
       "<IPython.core.display.HTML object>"
      ]
     },
     "metadata": {},
     "output_type": "display_data"
    }
   ],
   "source": [
    "%%html\n",
    "\n",
    "<!-- Calculator Interface -->\n",
    "<h2>Enhanced Calculator</h2>\n",
    "<p>Right justify result, test conditions, add division, and implement square root operation.</p>\n",
    "\n",
    "<!-- Input and Result Display -->\n",
    "<div>\n",
    "    <input type=\"text\" id=\"display\" style=\"text-align: right; width: 100%;\" disabled>\n",
    "</div>\n",
    "\n",
    "<!-- Calculator Buttons -->\n",
    "<div>\n",
    "    <button onclick=\"appendNumber('1')\">1</button>\n",
    "    <button onclick=\"appendNumber('2')\">2</button>\n",
    "    <button onclick=\"appendNumber('3')\">3</button>\n",
    "    <button onclick=\"appendOperator('+')\">+</button>\n",
    "    <br>\n",
    "    <button onclick=\"appendNumber('4')\">4</button>\n",
    "    <button onclick=\"appendNumber('5')\">5</button>\n",
    "    <button onclick=\"appendNumber('6')\">6</button>\n",
    "    <button onclick=\"appendOperator('-')\">-</button>\n",
    "    <br>\n",
    "    <button onclick=\"appendNumber('7')\">7</button>\n",
    "    <button onclick=\"appendNumber('8')\">8</button>\n",
    "    <button onclick=\"appendNumber('9')\">9</button>\n",
    "    <button onclick=\"appendOperator('*')\">*</button>\n",
    "    <br>\n",
    "    <button onclick=\"appendNumber('0')\">0</button>\n",
    "    <button onclick=\"appendOperator('/')\">/</button>\n",
    "    <button onclick=\"calculateResult()\">=</button>\n",
    "    <button onclick=\"clearDisplay()\">C</button>\n",
    "    <br>\n",
    "    <button onclick=\"calculateSquareRoot()\">√</button>\n",
    "</div>\n",
    "\n",
    "<script>\n",
    "function appendNumber(number) {\n",
    "    document.getElementById('display').value += number;\n",
    "}\n",
    "\n",
    "function appendOperator(operator) {\n",
    "    document.getElementById('display').value += ' ' + operator + ' ';\n",
    "}\n",
    "\n",
    "function calculateResult() {\n",
    "    try {\n",
    "        document.getElementById('display').value = eval(document.getElementById('display').value).toFixed(2);\n",
    "    } catch (e) {\n",
    "        document.getElementById('display').value = 'Error';\n",
    "    }\n",
    "}\n",
    "\n",
    "function clearDisplay() {\n",
    "    document.getElementById('display').value = '';\n",
    "}\n",
    "\n",
    "function calculateSquareRoot() {\n",
    "    try {\n",
    "        document.getElementById('display').value = Math.sqrt(eval(document.getElementById('display').value)).toFixed(2);\n",
    "    } catch (e) {\n",
    "        document.getElementById('display').value = 'Error';\n",
    "    }\n",
    "}\n",
    "</script>\n"
   ]
  }
 ],
 "metadata": {
  "kernelspec": {
   "display_name": "Python 3",
   "language": "python",
   "name": "python3"
  },
  "language_info": {
   "codemirror_mode": {
    "name": "ipython",
    "version": 3
   },
   "file_extension": ".py",
   "mimetype": "text/x-python",
   "name": "python",
   "nbconvert_exporter": "python",
   "pygments_lexer": "ipython3",
   "version": "3.10.12"
  },
  "vscode": {
   "interpreter": {
    "hash": "65f6bdf080211a4261ca30203f2967d5d410cd9d47d7b7e5694003092334a949"
   }
  }
 },
 "nbformat": 4,
 "nbformat_minor": 4
}
