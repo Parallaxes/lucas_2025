{
 "cells": [
  {
   "cell_type": "markdown",
   "metadata": {},
   "source": [
    "Create a JavaScript snippet below with the following requirements:\n",
    "\n",
    "- Create an object representing yourself as a person. The object should have keys for your name, age, current classes, interests, and two more of your choosing\n",
    "- Your object must contain keys whose values are arrays. The arrays can be arrays of strings, numbers, or even other objects if you would like\n",
    "- Print the entire object with console.log after declaring it\n",
    "- Manipulate the arrays within the object and print the entire object with console.log as well as the specific changed key afterwards\n",
    "- Perform mathematical operations on fields in your object such as +, -, /, % etc. and print the results with console.log along with a message contextualizing them\n",
    "- Use typeof to determine the types of at least 3 fields in your object"
   ]
  },
  {
   "cell_type": "code",
   "execution_count": 3,
   "metadata": {
    "vscode": {
     "languageId": "javascript"
    }
   },
   "outputs": [
    {
     "name": "stdout",
     "output_type": "stream",
     "text": [
      "Initial object: {\n",
      "  name: 'Lucas',\n",
      "  age: 14,\n",
      "  currentClasses: [ 'ENS 1', 'Honors English 1', 'AP Calculus AB (1)', 'CSSE 1' ],\n",
      "  interests: [ 'Reading', 'Programming', 'Cybersecurity', 'Data Science' ],\n",
      "  skills: [ 'C++', 'Python', 'Rust', 'ASM', 'CyberSec', 'Data Science' ],\n",
      "  favNum: '1114'\n",
      "}\n",
      "Modified object: {\n",
      "  name: 'Lucas',\n",
      "  age: 14,\n",
      "  currentClasses: [\n",
      "    'ENS 1',\n",
      "    'Honors English 1',\n",
      "    'AP Calculus AB (1)',\n",
      "    'CSSE 1',\n",
      "    'AP Biology (3)'\n",
      "  ],\n",
      "  interests: [ 'Reading', 'Programming', 'Cybersecurity' ],\n",
      "  skills: [ 'C++', 'Java', 'Rust', 'ASM', 'CyberSec', 'Data Science' ],\n",
      "  favNum: '1114'\n",
      "}\n",
      "Modified currentClasses: [\n",
      "  'ENS 1',\n",
      "  'Honors English 1',\n",
      "  'AP Calculus AB (1)',\n",
      "  'CSSE 1',\n",
      "  'AP Biology (3)'\n",
      "]\n",
      "Modified interests: [ 'Reading', 'Programming', 'Cybersecurity' ]\n",
      "Modified skills: [ 'C++', 'Java', 'Rust', 'ASM', 'CyberSec', 'Data Science' ]\n",
      "Modified favNum with math operation (next prime number after 1114): 11149\n",
      "Type of name: string\n",
      "Type of age: number\n",
      "Type of currentClasses: object\n",
      "Type of interests: object\n",
      "Type of skills: object\n",
      "Type of favNum: string\n"
     ]
    }
   ],
   "source": [
    "%%script node\n",
    "\n",
    "const person = {\n",
    "    name: \"Lucas\",\n",
    "    age: 14,\n",
    "    currentClasses: [\"ENS 1\", \"Honors English 1\", \"AP Calculus AB (1)\", \"CSSE 1\"],\n",
    "    interests: [\"Reading\", \"Programming\", \"Cybersecurity\", \"Data Science\"],\n",
    "    skills: [\"C++\", \"Python\", \"Rust\", \"ASM\", \"CyberSec\", \"Data Science\"],\n",
    "    favNum: \"1114\",\n",
    "};\n",
    "\n",
    "// Print the entire object\n",
    "console.log(\"Initial object:\", person);\n",
    "\n",
    "// Manipulate the arrays within the object\n",
    "person.currentClasses.push(\"AP Biology (3)\");\n",
    "person.interests.pop();\n",
    "person.skills[1] = \"Java\";\n",
    "\n",
    "console.log(\"Modified object:\", person);\n",
    "console.log(\"Modified currentClasses:\", person.currentClasses);\n",
    "console.log(\"Modified interests:\", person.interests);\n",
    "console.log(\"Modified skills:\", person.skills);\n",
    "\n",
    "console.log(\"Modified favNum with math operation (next prime number after 1114):\", person.favNum + 9);\n",
    "\n",
    "console.log(\"Type of name:\", typeof person.name);\n",
    "console.log(\"Type of age:\", typeof person.age);\n",
    "console.log(\"Type of currentClasses:\", typeof person.currentClasses);\n",
    "console.log(\"Type of interests:\", typeof person.interests);\n",
    "console.log(\"Type of skills:\", typeof person.skills);\n",
    "console.log(\"Type of favNum:\", typeof person.favNum);"
   ]
  },
  {
   "cell_type": "code",
   "execution_count": null,
   "metadata": {
    "vscode": {
     "languageId": "javascript"
    }
   },
   "outputs": [],
   "source": []
  }
 ],
 "metadata": {
  "kernelspec": {
   "display_name": "Python 3",
   "language": "python",
   "name": "python3"
  },
  "language_info": {
   "codemirror_mode": {
    "name": "ipython",
    "version": 3
   },
   "file_extension": ".py",
   "mimetype": "text/x-python",
   "name": "python",
   "nbconvert_exporter": "python",
   "pygments_lexer": "ipython3",
   "version": "3.10.12"
  }
 },
 "nbformat": 4,
 "nbformat_minor": 2
}
