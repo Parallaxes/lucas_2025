{
 "cells": [
  {
   "cell_type": "markdown",
   "metadata": {},
   "source": [
    "# Methods In Depth \n",
    "****\n",
    "\n",
    "Now that we have some of the basics out of the way, now it is time to go into methods in greater detail and depth than what was mentioned in the intro.\n",
    "\n",
    "## Defining Methods \n",
    "Methods in JavaScript are essentially functions inside of objects. To refresh your memory, objects are anything with Key-Value Pairs inside of them (ex: Name: \"Alex\"), and functions are blocks of code that perform specific tasks or actions, like console.log."
   ]
  },
  {
   "cell_type": "markdown",
   "metadata": {},
   "source": [
    "### Here is an example of a method."
   ]
  },
  {
   "cell_type": "code",
   "execution_count": 2,
   "metadata": {
    "vscode": {
     "languageId": "javascript"
    }
   },
   "outputs": [
    {
     "data": {
      "application/javascript": "\nlet dog = {\n    name: \"Buddy\",\n    breed: \"Golden Retriever\",\n    // Method to make the dog bark\n    bark: function() {\n        console.log(`${this.name} says Woof!`);\n    }\n};\n\n// Calling the method\ndog.bark(); // Output: \"Buddy says Woof!\"\n",
      "text/plain": [
       "<IPython.core.display.Javascript object>"
      ]
     },
     "metadata": {},
     "output_type": "display_data"
    }
   ],
   "source": [
    "%%js\n",
    "\n",
    "let dog = {\n",
    "    name: \"Buddy\",\n",
    "    breed: \"Golden Retriever\",\n",
    "    // Method to make the dog bark\n",
    "    bark: function() {\n",
    "        console.log(`${this.name} says Woof!`);\n",
    "    }\n",
    "};\n",
    "\n",
    "// Calling the method\n",
    "dog.bark(); // Output: \"Buddy says Woof!\"\n"
   ]
  },
  {
   "cell_type": "markdown",
   "metadata": {},
   "source": [
    "## Accessor Methods\n",
    "\n",
    "A variant of methods that can be particularly useful in many scenarios are `Accessor Methods`. Accessor methods are functions defined within an object that allow you to retrieve (access) the values of the object's properties without modifying them. \n",
    "\n",
    "Accessor methods make debugging code much easier and just make the code as a whole more cohesive and consistent.\n"
   ]
  },
  {
   "cell_type": "code",
   "execution_count": 1,
   "metadata": {
    "vscode": {
     "languageId": "javascript"
    }
   },
   "outputs": [
    {
     "data": {
      "application/javascript": "\nlet book = {\n    title: \"To Kill a Mockingbird\",\n    author: \"Harper Lee\",\n\n    // Accessor method to get the title of the book\n    getTitle: function() {\n        return this.title; // Returns the value of the 'title' property\n    },\n\n    // Accessor method to get the author of the book\n    getAuthor: function() {\n        return this.author; // Returns the value of the 'author' property\n    }\n};\n\n// Using the accessor methods\nconsole.log(book.getTitle());  // Output: \"To Kill a Mockingbird\"\nconsole.log(book.getAuthor()); // Output: \"Harper Lee\"\n",
      "text/plain": [
       "<IPython.core.display.Javascript object>"
      ]
     },
     "metadata": {},
     "output_type": "display_data"
    }
   ],
   "source": [
    "%%js\n",
    "\n",
    "let book = {\n",
    "    title: \"1984\",\n",
    "    author: \"George Orwell\",\n",
    "\n",
    "    // Accessor method to get the title of the book\n",
    "    getTitle: function() {\n",
    "        return this.title; // Returns the value of the 'title' property\n",
    "    },\n",
    "\n",
    "    // Accessor method to get the author of the book\n",
    "    getAuthor: function() {\n",
    "        return this.author; // Returns the value of the 'author' property\n",
    "    }\n",
    "};\n",
    "\n",
    "// Using the accessor methods\n",
    "console.log(book.getTitle());  // Output: \"1984\"\n",
    "console.log(book.getAuthor()); // Output: \"George Orwell\""
   ]
  },
  {
   "cell_type": "markdown",
   "metadata": {},
   "source": [
    "## Mutator Methods \n",
    "\n",
    "`Mutator Methods` are methods that allow you to modify (or mutate) the values of the object's properties. Unlike accessor methods, which are used to retrieve values, mutator methods are focused on changing the internal state of an object.\n",
    "\n",
    "Mutator methods are practically a necessity when it comes to changing an object's properties, and they not only are consistent and great for debugging, but they also make it easier if you want to change properties any further as you only have to do so from the mutator method and not every other access point in the code.\n",
    "\n"
   ]
  },
  {
   "cell_type": "code",
   "execution_count": null,
   "metadata": {
    "vscode": {
     "languageId": "javascript"
    }
   },
   "outputs": [],
   "source": [
    "%%js \n",
    "\n",
    "let person = {\n",
    "    name: \"Alice\",\n",
    "    age: 30,\n",
    "\n",
    "    // Mutator method to set the name\n",
    "    setName: function(newName) {\n",
    "        this.name = newName; // Update the value of the 'name' property\n",
    "    },\n",
    "\n",
    "    // Mutator method to set the age\n",
    "    setAge: function(newAge) {\n",
    "        if (newAge >= 0) { // Validate the age\n",
    "            this.age = newAge; // Update the value of the 'age' property\n",
    "        } else {\n",
    "            console.log(\"Please enter a valid age.\");\n",
    "        }\n",
    "    },\n",
    "\n",
    "    // Accessor method to get the name\n",
    "    getName: function() {\n",
    "        return this.name;\n",
    "    },\n",
    "\n",
    "    // Accessor method to get the age\n",
    "    getAge: function() {\n",
    "        return this.age;\n",
    "    }\n",
    "};\n",
    "\n",
    "// Using the mutator methods\n",
    "person.setName(\"Bob\"); // Change the name to \"Bob\"\n",
    "person.setAge(25);     // Change the age to 25\n",
    "console.log(person.getName()); // Output: \"Bob\"\n",
    "console.log(person.getAge());  // Output: 25\n",
    "\n",
    "// Trying to set an invalid age\n",
    "// person.setAge(-5);  // Output: \"Please enter a valid age.\""
   ]
  },
  {
   "cell_type": "markdown",
   "metadata": {},
   "source": [
    "## Popcorn Hack Time!! (yay) \n",
    "\n",
    "For the popcorn hack, use this code cell below and create an object that must include these three things \n",
    "\n",
    "    - Four Key-Value Pairs that at least include your name, age, and two others of your choosing\n",
    "    - Accessor methods (At least 2)\n",
    "    - Mutator methods (At least 2 as well) \n",
    "    "
   ]
  },
  {
   "cell_type": "code",
   "execution_count": null,
   "metadata": {
    "vscode": {
     "languageId": "javascript"
    }
   },
   "outputs": [],
   "source": [
    "%%js \n",
    "\n",
    "// Have Fun!\n",
    "\n",
    "class Person {\n",
    "    // Define Key-Value Pairs\n",
    "\n",
    "\n",
    "    // Methods of choosing can go here\n",
    "\n",
    "\n",
    "    // Methods of choosing go here\n",
    "\n",
    "\n",
    "}\n",
    "\n",
    "// Outputs can go here \n",
    "// Set 1\n",
    "// Set 2\n",
    "// Get 1\n",
    "// Get 2\n",
    "\n",
    "// Test invalid input"
   ]
  },
  {
   "cell_type": "markdown",
   "metadata": {},
   "source": [
    "\n",
    "\n",
    "****\n",
    "\n",
    "## Sources\n",
    "1. Classes - JavaScript | MDN. MDN Web Docs. 2024 Jul 25. https://developer.mozilla.org/en-US/docs/Web/JavaScript/Reference/Classes\n",
    "2. W3Schools.com. https://www.w3schools.com/js/js_classes.asp\n",
    "\n",
    "****\n",
    "*Building The Future And Keeping The Past Alive Are One In The Same Thing.*"
   ]
  }
 ],
 "metadata": {
  "kernelspec": {
   "display_name": "Python 3",
   "language": "python",
   "name": "python3"
  },
  "language_info": {
   "codemirror_mode": {
    "name": "ipython",
    "version": 3
   },
   "file_extension": ".py",
   "mimetype": "text/x-python",
   "name": "python",
   "nbconvert_exporter": "python",
   "pygments_lexer": "ipython3",
   "version": "3.12.3"
  }
 },
 "nbformat": 4,
 "nbformat_minor": 2
}
