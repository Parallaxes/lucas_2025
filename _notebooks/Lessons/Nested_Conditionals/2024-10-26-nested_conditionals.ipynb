{
 "cells": [
  {
   "cell_type": "raw",
   "metadata": {
    "vscode": {
     "languageId": "raw"
    }
   },
   "source": [
    "---\n",
    "comments: true\n",
    "layout: post\n",
    "title: Nested Conditionals with booleans Javascript Lesson\n",
    "description: Nested conditionals with booleans in Javascript are condition statements placed inside condition statements, allowing multiple layers of decision making.\n",
    "type: ccc\n",
    "author: Anika Marathe\n",
    "\n",
    "\n",
    "---"
   ]
  },
  {
   "cell_type": "markdown",
   "metadata": {},
   "source": [
    "<h2><span style=\"font-family: Ariel; color:#94c4ff\">Example 2 - Booleans</span></h2>\n",
    "\n",
    "1. Write a code that checks if you can cook a meal at home. \n",
    "2. Use the presence of hunger, and ingredients, to determine if cooking a meal is possible at home.\n",
    "3. Use booleans in the code"
   ]
  },
  {
   "cell_type": "code",
   "execution_count": 1,
   "metadata": {
    "vscode": {
     "languageId": "html"
    }
   },
   "outputs": [
    {
     "data": {
      "text/html": [
       "<!-- HTML output div -->\n",
       "<div id=\"message\"></div>\n",
       "\n",
       "<script>\n",
       "    function runWhenDOMLoaded() {\n",
       "        let isHungry = true;\n",
       "\n",
       "        // Define ingredients as a JSON object\n",
       "        const ingredients = {\n",
       "            \"bread\": true,\n",
       "            \"cheese\": false,\n",
       "            \"tomato\": false\n",
       "        };\n",
       "\n",
       "        const messageElement = document.getElementById(\"message\");\n",
       "\n",
       "        function displayMessage(message) {\n",
       "            console.log(message); // Log to console\n",
       "            messageElement.textContent = message; // Display on the webpage\n",
       "        }\n",
       "\n",
       "        // Check if essential ingredients are available\n",
       "        if (isHungry) {\n",
       "            if (ingredients.bread && ingredients.cheese) {\n",
       "                displayMessage(\"You can make a cheese sandwich at home.\");\n",
       "            } else if (ingredients.bread) {\n",
       "                displayMessage(\"You only have bread, maybe make toast.\");\n",
       "            } else {\n",
       "                displayMessage(\"You should order food since you don't have enough ingredients.\");\n",
       "            }\n",
       "        } else {\n",
       "            displayMessage(\"You aren't hungry. Maybe meal-prep for later if you had ingredients.\");\n",
       "        }\n",
       "    }\n",
       "\n",
       "    // Ensure the function runs only after the page loads\n",
       "    if (document.readyState === 'loading') {\n",
       "        document.addEventListener('DOMContentLoaded', runWhenDOMLoaded);\n",
       "    } else {\n",
       "        runWhenDOMLoaded();\n",
       "    }\n",
       "</script>\n"
      ],
      "text/plain": [
       "<IPython.core.display.HTML object>"
      ]
     },
     "metadata": {},
     "output_type": "display_data"
    }
   ],
   "source": [
    "%%html\n",
    "<!-- HTML output div -->\n",
    "<div id=\"message\"></div>\n",
    "\n",
    "<script>\n",
    "    function runWhenDOMLoaded() {\n",
    "        let isHungry = true;\n",
    "\n",
    "        // Define ingredients as a JSON object\n",
    "        const ingredients = {\n",
    "            \"bread\": true,\n",
    "            \"cheese\": false,\n",
    "            \"tomato\": false\n",
    "        };\n",
    "\n",
    "        const messageElement = document.getElementById(\"message\");\n",
    "\n",
    "        function displayMessage(message) {\n",
    "            console.log(message); // Log to console\n",
    "            messageElement.textContent = message; // Display on the webpage\n",
    "        }\n",
    "\n",
    "        // Check if essential ingredients are available\n",
    "        if (isHungry) {\n",
    "            if (ingredients.bread && ingredients.cheese) {\n",
    "                displayMessage(\"You can make a cheese sandwich at home.\");\n",
    "            } else if (ingredients.bread) {\n",
    "                displayMessage(\"You only have bread, maybe make toast.\");\n",
    "            } else {\n",
    "                displayMessage(\"You should order food since you don't have enough ingredients.\");\n",
    "            }\n",
    "        } else {\n",
    "            displayMessage(\"You aren't hungry. Maybe meal-prep for later if you had ingredients.\");\n",
    "        }\n",
    "    }\n",
    "\n",
    "    // Ensure the function runs only after the page loads\n",
    "    if (document.readyState === 'loading') {\n",
    "        document.addEventListener('DOMContentLoaded', runWhenDOMLoaded);\n",
    "    } else {\n",
    "        runWhenDOMLoaded();\n",
    "    }\n",
    "</script>\n"
   ]
  },
  {
   "cell_type": "markdown",
   "metadata": {},
   "source": [
    "<h3><span style=\"font-family: Ariel; color:#94c4ff\">Popcorn Hack 2</span></h3>\n",
    "\n",
    "A: What will you change so that it prints \"You aren't hungry. Maybe meal-prep for later if you had ingredients.\" ?\n",
    "B: What will you change so that it prints \"You can make a cheese sandwich at home.\" ?"
   ]
  }
 ],
 "metadata": {
  "kernelspec": {
   "display_name": "Python 3",
   "language": "python",
   "name": "python3"
  },
  "language_info": {
   "codemirror_mode": {
    "name": "ipython",
    "version": 3
   },
   "file_extension": ".py",
   "mimetype": "text/x-python",
   "name": "python",
   "nbconvert_exporter": "python",
   "pygments_lexer": "ipython3",
   "version": "3.10.12"
  }
 },
 "nbformat": 4,
 "nbformat_minor": 2
}
