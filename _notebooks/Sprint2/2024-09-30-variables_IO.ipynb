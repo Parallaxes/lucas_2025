{
 "cells": [
  {
   "cell_type": "raw",
   "metadata": {
    "vscode": {
     "languageId": "raw"
    }
   },
   "source": [
    "---\n",
    "comments: true\n",
    "layout: post\n",
    "title: JavaScript Variables, Input, Output\n",
    "description: An introduction to JavaScript variables, input, and output using the RPG game as an example.\n",
    "permalink: /csse/javascript/fundamentals/variables\n",
    "categories: [JavaScript Fundamentals]\n",
    "courses: { csse: {week: 6} }\n",
    "type: ccc\n",
    "---"
   ]
  },
  {
   "cell_type": "markdown",
   "metadata": {},
   "source": [
    "## Variables\n",
    "\n",
    "Variables are storage containers for data values used within a programming language. Variables can be useful when changing preferences, selecting a background, creating animations, and changing assets in game programming."
   ]
  },
  {
   "cell_type": "markdown",
   "metadata": {},
   "source": [
    "### Variable Inputs\n",
    "\n",
    "To obtain data from user and save into a JavaScript variable requires the use of HTML.  \n",
    "\n",
    "The `<input>` HTML element is used to create interactive controls for web-based forms in order to receive data from the user.\n",
    "\n",
    "- Geeks for Geeks Referece on [input tag](https://www.geeksforgeeks.org/html-input-tag/)\n",
    "- Remember in Jupyter Notebooks and in GitHub Pages we do not use `<head>` and `<body>` tags.  \n",
    "- Additionally, we prefer using SASS for `<style>` in GitHub Pages."
   ]
  },
  {
   "cell_type": "markdown",
   "metadata": {},
   "source": [
    "### Variable Outputs\n",
    "\n",
    "To output a variable in JavaScript it works in combination with HTML as well. To output the variable game_speed or any errors it requires  that outputs to be placed in the Document Object Model (DOM).\n",
    "\n",
    "Additionally, it is common practice in debugging a program to output to console.log.\n",
    "\n",
    "To view DOM and Developer Outputs\n",
    "- Open Help -> Toggle Developer Tools\n",
    "- Go to Console menu, you can clear console to view outputs from console comands in this cell\n",
    "- To see DOM go to Elements tab and use selector and click on output in this window."
   ]
  },
  {
   "cell_type": "code",
   "execution_count": 10,
   "metadata": {
    "vscode": {
     "languageId": "html"
    }
   },
   "outputs": [
    {
     "data": {
      "text/html": [
       "\n",
       "<!-- Input definitions -->\n",
       "<div>\n",
       "  <label for=\"speed\">Adjust Speed (1-5):</label>\n",
       "  <input type=\"number\" id=\"speed\" name=\"speed\" min=\"1\" max=\"5\" value=\"2\">\n",
       "  <button onclick=\"submitSpeed()\">Submit</button>\n",
       "</div>\n",
       "\n",
       "<!-- Document Object Model (DOM) output locations -->\n",
       "<div id=\"output\"></div>\n",
       "<div id=\"error\"></div>\n",
       "\n",
       "<script>\n",
       "  // Function to validate and output the game speed value\n",
       "  function submitSpeed() {\n",
       "    let gameSpeed = document.getElementById('speed').value;\n",
       "    \n",
       "    // Ensure the value is within the allowed range\n",
       "    if (gameSpeed < 1 || gameSpeed > 5) {\n",
       "      // Set/clear output messages when there is an error\n",
       "      document.getElementById('output').innerHTML = \"\";\n",
       "      // Output an error message to the console\n",
       "      console.error(\"Invalid game speed value:\", gameSpeed);\n",
       "      // Output an error message to the HTML page\n",
       "      document.getElementById('error').innerHTML = \"Invalid game speed value: \" + gameSpeed;\n",
       "    } else {\n",
       "      // Set/clear error messages when the value is valid\n",
       "      document.getElementById('error').innerHTML = \"\";\n",
       "      // Output the game speed value to the console\n",
       "      console.log(\"Game speed set to:\", gameSpeed);\n",
       "      // Output the game speed value to the HTML page\n",
       "      document.getElementById('output').innerHTML = \"Game speed set to: \" + gameSpeed;\n",
       "    }\n",
       "  }\n",
       "</script>\n"
      ],
      "text/plain": [
       "<IPython.core.display.HTML object>"
      ]
     },
     "metadata": {},
     "output_type": "display_data"
    }
   ],
   "source": [
    "%%html \n",
    "\n",
    "<!-- Input definitions -->\n",
    "<div>\n",
    "  <label for=\"speed\">Adjust Speed (1-5):</label>\n",
    "  <input type=\"number\" id=\"speed\" name=\"speed\" min=\"1\" max=\"5\" value=\"2\">\n",
    "  <button onclick=\"submitSpeed()\">Submit</button>\n",
    "</div>\n",
    "\n",
    "<!-- Document Object Model (DOM) output locations -->\n",
    "<div id=\"output\"></div>\n",
    "<div id=\"error\"></div>\n",
    "\n",
    "<script>\n",
    "  // Function to validate and output the game speed value\n",
    "  function submitSpeed() {\n",
    "    let gameSpeed = document.getElementById('speed').value;\n",
    "    \n",
    "    // Ensure the value is within the allowed range\n",
    "    if (gameSpeed < 1 || gameSpeed > 5) {\n",
    "      // Set/clear output messages when there is an error\n",
    "      document.getElementById('output').innerHTML = \"\";\n",
    "      // Output an error message to the console\n",
    "      console.error(\"Invalid game speed value:\", gameSpeed);\n",
    "      // Output an error message to the HTML page\n",
    "      document.getElementById('error').innerHTML = \"Invalid game speed value: \" + gameSpeed;\n",
    "    } else {\n",
    "      // Set/clear error messages when the value is valid\n",
    "      document.getElementById('error').innerHTML = \"\";\n",
    "      // Output the game speed value to the console\n",
    "      console.log(\"Game speed set to:\", gameSpeed);\n",
    "      // Output the game speed value to the HTML page\n",
    "      document.getElementById('output').innerHTML = \"Game speed set to: \" + gameSpeed;\n",
    "    }\n",
    "  }\n",
    "</script>"
   ]
  },
  {
   "cell_type": "markdown",
   "metadata": {},
   "source": [
    "### Variable Naming Conventions\n",
    "\n",
    "- **camelCase** In camel case, the first word is lowercase, and the first letter of the remaining words are uppercase: `gameSpeed`\n",
    "- **snake_case** In snake casse, the words in variables are all lowercase and are separated by a underbar: `game_speed`\n",
    "- **PascalCase** In PascalCase, the first letter in the word is capitalized: `GameSpeed`\n",
    "\n",
    "In JavaScript, there will be usage of all three types in the RPG project."
   ]
  },
  {
   "cell_type": "markdown",
   "metadata": {},
   "source": [
    "## Variables containing Variables (Reference Types)\n",
    "\n",
    "There are variables that contain other variables. These are called reference types.\n",
    "\n",
    "- **JSON Objects**: These variables contain key names and associated values (key-value pairs). The key is used for reference and the value contains the data.\n",
    "  - **Key**: This is similar to a variable name. The key describes the value and is followed by a colon.\n",
    "  - **Value**: The value is associated with the key.\n",
    "  - **Sample Definition**: `let gameAttribute = {\"Speed\": 3, \"Avatar\": \"Mario\"}`\n",
    "  - **Sample Reference**: `gameAttribute[\"Speed\"]`\n",
    "  - **Sample Output from Reference**: `3`\n",
    "\n",
    "- **JSON Arrays**: These variables contain a sequence of values.\n",
    "  - **Sample Definition**: `let scoreHistory = [50, 75, 66, 80, 100, 85]`\n",
    "  - **Sample Reference**: `scoreHistory[2]`\n",
    "  - **Sample Output from Reference**: `66`"
   ]
  },
  {
   "cell_type": "code",
   "execution_count": 3,
   "metadata": {
    "vscode": {
     "languageId": "javascript"
    }
   },
   "outputs": [
    {
     "data": {
      "application/javascript": "\n// Reference Type example\n// Open VSCode Help -> Toggle Developer Tools -> Console\n\n// JSON Object\nlet gameAttribute = {\n    \"Speed\": 3,\n    \"Avatar\": \"Mario\"\n};\n\n// Accessing JSON Object values\nconsole.log(\"Speed:\", gameAttribute[\"Speed\"]); // Output: Speed: 3\nconsole.log(\"Avatar:\", gameAttribute[\"Avatar\"]); // Output: Avatar: Mario\n\n// JSON Array\nlet scoreHistory = [50, 75, 66, 80, 100, 85];\n\n// Accessing JSON Array values\nconsole.log(\"Score at index 2:\", scoreHistory[2]); // Output: Score at index 2: 66\n",
      "text/plain": [
       "<IPython.core.display.Javascript object>"
      ]
     },
     "metadata": {},
     "output_type": "display_data"
    }
   ],
   "source": [
    "%%js\n",
    "\n",
    "// Reference Type example\n",
    "// Open VSCode Help -> Toggle Developer Tools -> Console\n",
    "\n",
    "// JSON Object\n",
    "let gameAttribute = {\n",
    "    \"Speed\": 3,\n",
    "    \"Avatar\": \"Mario\"\n",
    "};\n",
    "\n",
    "// Accessing JSON Object values\n",
    "console.log(\"Speed:\", gameAttribute[\"Speed\"]); // Output: Speed: 3\n",
    "console.log(\"Avatar:\", gameAttribute[\"Avatar\"]); // Output: Avatar: Mario\n",
    "\n",
    "// JSON Array\n",
    "let scoreHistory = [50, 75, 66, 80, 100, 85];\n",
    "\n",
    "// Accessing JSON Array values\n",
    "console.log(\"Score at index 2:\", scoreHistory[2]); // Output: Score at index 2: 66"
   ]
  },
  {
   "cell_type": "markdown",
   "metadata": {},
   "source": [
    "### Variable Naming Convention Hack\n",
    "\n",
    "Search up naming convention for JavaScript.  Conventions are important to easily recognize purpose of definitions.\n",
    "1. Usage of camelCase.  What is standard?\n",
    "2. Usage of UPPER_CASE snake_case.  What is standard?\n",
    "3. Usage of PascalCase.  What is standard?"
   ]
  },
  {
   "cell_type": "markdown",
   "metadata": {},
   "source": [
    "### Variable Naming Convention Hack Response\n",
    "In JavaScript, different naming conventions typically indicate the intended use of variables, functions, and classes. Here's how **camelCase**, **snake_case**, **PascalCase**, and **UPPER_SNAKE_CASE** are generally used:\n",
    "\n",
    "### 1. **camelCase**:\n",
    "   - **Usage**: Used for variables, function names, and object properties.\n",
    "   - **Example**: `myVariable`, `doSomething()`, `imageHeight`\n",
    "   - **Indicates**: This is the most common naming convention for variables and functions in JavaScript, and it suggests that the value or function can be modified.\n",
    "\n",
    "### 2. **snake_case**:\n",
    "   - **Usage**: Less common in JavaScript but can sometimes be used for constants or keys in objects, especially in configurations or when interacting with non-JS systems (e.g., databases).\n",
    "   - **Example**: `api_response`, `user_id`\n",
    "   - **Indicates**: Used for readability in contexts like JSON data or configuration files, but generally avoided in native JavaScript code for variables and functions.\n",
    "\n",
    "### 3. **PascalCase**:\n",
    "   - **Usage**: Typically used for class names and constructors.\n",
    "   - **Example**: `GameControl`, `MyClass`, `AppController`\n",
    "   - **Indicates**: A PascalCase name suggests that the item is a **constructor function** or **class**, representing an entity that can be instantiated (i.e., `new MyClass()`).\n",
    "\n",
    "### 4. **UPPER_SNAKE_CASE** (also known as CONSTANT_CASE):\n",
    "   - **Usage**: Used for constants that do not change during the execution of the program.\n",
    "   - **Example**: `MAX_HEIGHT`, `API_KEY`\n",
    "   - **Indicates**: This is meant to convey that the value is a **constant**, and changing it in the code would be unexpected.\n",
    "\n",
    "### Summary of Usage:\n",
    "- **camelCase**: Variables, function names, and object properties.\n",
    "- **snake_case**: Rarely used for variables, but common in external systems or configurations.\n",
    "- **PascalCase**: Classes, constructors, or special types of objects.\n",
    "- **UPPER_SNAKE_CASE**: Constants or values that remain unchanged.\n",
    "\n",
    "These conventions help signal the role and usage of variables and functions within the code, improving readability and maintainability."
   ]
  },
  {
   "cell_type": "markdown",
   "metadata": {},
   "source": [
    "### RPG Project Hack\n",
    "Identify naming convention and data type used in this code.  Which items would you change according to your research on naming conventions?  What are the data types?  Change names and provide comments to to describe data types and name convention changes.  \n",
    "\n",
    "1. Make a new code cell to make it easy to compare before and after.\n",
    "2. Figure out naming convention for Key-Values items.  Source and share your reference.\n",
    "\n",
    "```js\n",
    "import GameControl from '{{site.baseurl}}/assets/js/rpg/GameControl.js';\n",
    "\n",
    "// Background data\n",
    "const image_src = \"{{site.baseurl}}/images/rpg/water.png\";\n",
    "const image_data = {\n",
    "    pixels: {height: 580, width: 1038}\n",
    "};\n",
    "const image = {src: image_src, data: image_data};\n",
    "\n",
    "// Sprite data\n",
    "const sprite_src = \"{{site.baseurl}}/images/rpg/turtle.png\";\n",
    "const sprite_data = {\n",
    "    SCALE_FACTOR: 10,\n",
    "    STEP_FACTOR: 1000,\n",
    "    ANIMATION_RATE: 50,\n",
    "    pixels: {height: 280, width: 256},\n",
    "    orientation: {rows: 4, columns: 3 },\n",
    "    down: {row: 0, start: 0, columns: 3 },\n",
    "    left: {row: 1, start: 0, columns: 3 },\n",
    "    right: {row: 2, start: 0, columns: 3 },\n",
    "    up: {row: 3, start: 0, columns: 3 },\n",
    "};\n",
    "const sprite = {src: sprite_src, data: sprite_data};\n",
    "\n",
    "// Assets for game\n",
    "const assets = {image: image, sprite: sprite}\n",
    "\n",
    "// Start game engine\n",
    "GameControl.start(assets);\n",
    "```"
   ]
  },
  {
   "cell_type": "markdown",
   "metadata": {},
   "source": [
    "### RPG Game Project Hack Response\n",
    "\n",
    "```js\n",
    "import GameControl from '{{site.baseurl}}/assets/js/rpg/GameControl.js';\n",
    "\n",
    "// Background image data\n",
    "const BACKGROUND_IMAGE_SOURCE = \"{{site.baseurl}}/images/rpg/water.png\"; // Constant, UPPER_SNAKE_CASE for unchanging values\n",
    "const backgroundImageData = { \n",
    "    dimensions: {height: 580, width: 1038} // camelCase, as it's variable data\n",
    "};\n",
    "const backgroundImage = {src: BACKGROUND_IMAGE_SOURCE, data: backgroundImageData};\n",
    "\n",
    "// Sprite data\n",
    "const SPRITE_IMAGE_SOURCE = \"{{site.baseurl}}/images/rpg/turtle.png\"; // Constant, UPPER_SNAKE_CASE for unchanging values\n",
    "const spriteDetails = {\n",
    "    scaleFactor: 10,          // camelCase for variables\n",
    "    stepIntervalMs: 1000,     // camelCase for time intervals, clearer naming\n",
    "    animationRateMs: 50,      // camelCase, includes time unit for clarity\n",
    "    dimensions: {height: 280, width: 256},  // camelCase for object properties\n",
    "    orientation: {rows: 4, columns: 3 },    // camelCase for multi-value objects\n",
    "    down: {row: 0, start: 0, columns: 3 },  // directional data remains camelCase\n",
    "    left: {row: 1, start: 0, columns: 3 },\n",
    "    right: {row: 2, start: 0, columns: 3 },\n",
    "    up: {row: 3, start: 0, columns: 3 },\n",
    "};\n",
    "const spriteImage = {src: SPRITE_IMAGE_SOURCE, data: spriteDetails};\n",
    "\n",
    "// Game assets\n",
    "const gameAssets = {backgroundImage, spriteImage};  // camelCase for variable names\n",
    "\n",
    "// Start game engine\n",
    "GameControl.start(gameAssets);\n",
    "```"
   ]
  },
  {
   "cell_type": "markdown",
   "metadata": {},
   "source": [
    "### Code Block Hack\n",
    "\n",
    "Make a new code block for some game elements that you have in your \"Ideation\"."
   ]
  },
  {
   "cell_type": "markdown",
   "metadata": {},
   "source": [
    "### Code Block Hack Response\n",
    "\n",
    "Here's an idea I had (which does not actually describe the working game environment, but works as a good example):\n",
    "\n",
    "```js\n",
    "class Enemy {\n",
    "    constructor(x, y, speed) {\n",
    "        this.x = x;                 // Enemy's initial X position\n",
    "        this.y = y;                 // Enemy's initial Y position\n",
    "        this.speed = speed;         // Enemy's speed (pixels per frame)\n",
    "        this.targetX = 0;           // Player's X position (to be updated in real-time)\n",
    "        this.targetY = 0;           // Player's Y position (to be updated in real-time)\n",
    "    }\n",
    "\n",
    "    // Method to update the enemy's target (player's location)\n",
    "    updateTarget(playerX, playerY) {\n",
    "        this.targetX = playerX;\n",
    "        this.targetY = playerY;\n",
    "    }\n",
    "\n",
    "    // Method to calculate direction and move the enemy toward the player\n",
    "    chasePlayer() {\n",
    "        // Calculate the difference in position between the enemy and the player\n",
    "        const deltaX = this.targetX - this.x;\n",
    "        const deltaY = this.targetY - this.y;\n",
    "\n",
    "        // Calculate the distance between the enemy and the player\n",
    "        const distance = Math.sqrt(deltaX ** 2 + deltaY ** 2);\n",
    "\n",
    "        // Normalize the difference and apply speed to move towards the player\n",
    "        const moveX = (deltaX / distance) * this.speed;\n",
    "        const moveY = (deltaY / distance) * this.speed;\n",
    "\n",
    "        // Update enemy's position\n",
    "        this.x += moveX;\n",
    "        this.y += moveY;\n",
    "    }\n",
    "\n",
    "    // Method to render the enemy on the canvas (if you're using one)\n",
    "    render(ctx) {\n",
    "        ctx.fillStyle = 'red';  // Enemy color\n",
    "        ctx.fillRect(this.x, this.y, 50, 50);  // Example enemy size (50x50)\n",
    "    }\n",
    "}\n",
    "\n",
    "// Example of game loop where the enemy chases the player\n",
    "function gameLoop(player, enemy, ctx) {\n",
    "    // Update player's position (assumed player object has x and y coordinates)\n",
    "    const playerX = player.x;\n",
    "    const playerY = player.y;\n",
    "\n",
    "    // Update the enemy's target position (player's location)\n",
    "    enemy.updateTarget(playerX, playerY);\n",
    "\n",
    "    // Move the enemy towards the player\n",
    "    enemy.chasePlayer();\n",
    "\n",
    "    // Clear the canvas (assuming you're using canvas)\n",
    "    ctx.clearRect(0, 0, canvas.width, canvas.height);\n",
    "\n",
    "    // Render the player and the enemy (assuming player has a render method)\n",
    "    player.render(ctx);\n",
    "    enemy.render(ctx);\n",
    "\n",
    "    // Loop the game\n",
    "    requestAnimationFrame(() => gameLoop(player, enemy, ctx));\n",
    "}\n",
    "\n",
    "// Initialize the enemy and player (assuming player exists)\n",
    "const enemy = new Enemy(100, 100, 2);  // Enemy starts at (100, 100) with speed of 2 pixels per frame\n",
    "const player = new Player(300, 300);   // Player starts at (300, 300)\n",
    "\n",
    "// Start the game loop (assuming you have a 2D context \"ctx\" from a canvas)\n",
    "gameLoop(player, enemy, ctx);\n",
    "```"
   ]
  }
 ],
 "metadata": {
  "kernelspec": {
   "display_name": "Python 3",
   "language": "python",
   "name": "python3"
  },
  "language_info": {
   "codemirror_mode": {
    "name": "ipython",
    "version": 3
   },
   "file_extension": ".py",
   "mimetype": "text/x-python",
   "name": "python",
   "nbconvert_exporter": "python",
   "pygments_lexer": "ipython3",
   "version": "3.10.12"
  }
 },
 "nbformat": 4,
 "nbformat_minor": 2
}
