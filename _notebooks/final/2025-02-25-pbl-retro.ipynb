{
 "cells": [
  {
   "cell_type": "code",
   "execution_count": null,
   "metadata": {
    "vscode": {
     "languageId": "yaml"
    }
   },
   "outputs": [],
   "source": [
    "---\n",
    "comments: true\n",
    "layout: post\n",
    "title: PBL - Retrospective Engineering\n",
    "author: Lucas Masterson\n",
    "permalink: /csse/pbl/software\n",
    "category: [ PBL ]\n",
    "type: ccc\n",
    "---"
   ]
  },
  {
   "cell_type": "markdown",
   "metadata": {},
   "source": [
    "## Performing Demos\n",
    "\n",
    "My experience with the demos has been pretty bad haha. It's some sort of unwritten universal rule that your demo WILL fail in one way or another when it matters most. It just happens. The idea behind demos is definitely an important one: you're showing how something works while explaining it, which is a massive help towards the listener. I haven't much to say on this matter since it's predominantly self-explanatory."
   ]
  },
  {
   "cell_type": "markdown",
   "metadata": {},
   "source": [
    "## Receiving Feedback in Live Reviews\n",
    "\n",
    "I feel a bit guilty about this. Some of the times when I receive feedback I'll try to implement it, but fail miserably after a lot of tinkering. Sometimes I think I try tackling too highly ambitious projects before focusing on the actually important fundamental stuff. Anyhow, receiving feedback is simply a part of life when it comes to live reviews.\n",
    "\n",
    "The live reviews are sometimes scary, but only if you're not prepared or don't know what you're talking about completely. I'd say I understand the `Platformer4x` codebase around 70%, which makes me feel quite ok with the live reviews. But yeah, main point behind doing well is quite literally just knowing what you're talking about -- something that comes naturally from tinkering with a codebase like `Platformer4x`."
   ]
  },
  {
   "cell_type": "markdown",
   "metadata": {},
   "source": [
    "## Future Implementation Ideas\n",
    "\n",
    "Given I had more time, I would undertake a lot more stuff. I haven't had the greatest favor of the `Platformer4x` codebase although I've worked on it the most. I'm not all too interested in this type of game programming, and I'd like to learn more with the backend content. I'd try focusing on:\n",
    "\n",
    "- Implementing a database to store and retrieve leaderboard times\n",
    "- Fix performance issues (game runs REALLY slowly sometimes)\n",
    "- Add more levels\n",
    "- Connect `rpg` and `Platformer4x`"
   ]
  }
 ],
 "metadata": {
  "language_info": {
   "name": "python"
  }
 },
 "nbformat": 4,
 "nbformat_minor": 2
}
