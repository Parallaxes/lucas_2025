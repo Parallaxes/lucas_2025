{
 "cells": [
  {
   "cell_type": "code",
   "execution_count": null,
   "metadata": {
    "vscode": {
     "languageId": "yaml"
    }
   },
   "outputs": [],
   "source": [
    "---\n",
    "comments: true\n",
    "layout: post\n",
    "title: CSSE 2 Final Week \n",
    "author: Lucas Masterson\n",
    "description: Personal blog for CSSE 2 Final Week 2\n",
    "permalink: /csse/final/week2\n",
    "type: ccc\n",
    "---"
   ]
  },
  {
   "cell_type": "markdown",
   "metadata": {},
   "source": [
    "Quick breakdown of my current stats...\n",
    "\n",
    "Up to ~85 PRs total now!\n",
    "\n",
    "Day 1:\n",
    "- Got an alternate ending working and running (collecting coins to proceed with levels)\n",
    "- Some merge conflict fixes\n",
    "- Fixed someones auth errors with tech aura. I have to find that meme someday. Please someone find it for me. \"tech aura\""
   ]
  }
 ],
 "metadata": {
  "language_info": {
   "name": "python"
  }
 },
 "nbformat": 4,
 "nbformat_minor": 2
}
