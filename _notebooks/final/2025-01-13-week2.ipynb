{
 "cells": [
  {
   "cell_type": "code",
   "execution_count": null,
   "metadata": {
    "vscode": {
     "languageId": "yaml"
    }
   },
   "outputs": [],
   "source": [
    "---\n",
    "comments: true\n",
    "layout: post\n",
    "title: CSSE 2 Final Week \n",
    "author: Lucas Masterson\n",
    "description: Personal blog for CSSE 2 Final Week 2\n",
    "permalink: /csse/final/week2\n",
    "type: ccc\n",
    "---"
   ]
  },
  {
   "cell_type": "markdown",
   "metadata": {},
   "source": [
    "Quick breakdown of my current stats...\n",
    "\n",
    "Up to ~85 PRs total now!\n",
    "\n",
    "Day 1:\n",
    "- Got an alternate ending working and running (collecting coins to proceed with levels)\n",
    "- Some merge conflict fixes\n",
    "- Fixed someones auth errors with tech aura. I have to find that meme someday. Please someone find it for me. \"tech aura\"\n",
    "\n",
    "Day 2:\n",
    "- Added local user ID storage. Just storing the user ID the user sets in local storage\n",
    "- Prototyping for saving level progression; although the variable logs work, it keeps resetting the level index to 4 for no apparent reason. Will have to fix this later.\n",
    "- Updating ideation + notebooks for local storage\n",
    "- Made PR but it's integrated with the other LEAAAAM team's commits because I made the PR using main (where we both committed to)\n",
    "\n",
    "Day 3:\n",
    "- Working on moving the last 2 commits made for ideation to another branch so we're not pushing with the other LEAAAAM team's content. Nearly erased 2 commits from history, but luckily I had it logged locally (`git reflog`). PSA: Don't use `git reset --hard HEAD~2` and `git push --force` unless you no what you're doing.\n",
    "- Seperated the PRs and pushed."
   ]
  }
 ],
 "metadata": {
  "language_info": {
   "name": "python"
  }
 },
 "nbformat": 4,
 "nbformat_minor": 2
}
