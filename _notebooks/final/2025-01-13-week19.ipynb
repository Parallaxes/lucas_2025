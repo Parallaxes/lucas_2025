{
 "cells": [
  {
   "cell_type": "code",
   "execution_count": null,
   "metadata": {
    "vscode": {
     "languageId": "yaml"
    }
   },
   "outputs": [],
   "source": [
    "---\n",
    "comments: true\n",
    "layout: post\n",
    "title: CSSE 2 Final Week 19\n",
    "author: Lucas Masterson\n",
    "description: Personal blog for CSSE 2 Final Week 19\n",
    "permalink: /csse/final/week19\n",
    "type: ccc\n",
    "---"
   ]
  },
  {
   "cell_type": "markdown",
   "metadata": {},
   "source": [
    "Quick breakdown of my current stats...\n",
    "\n",
    "Up to ~85 PRs total now!\n",
    "\n",
    "## Day 1:\n",
    "- Got an alternate ending working and running (collecting coins to proceed with levels)\n",
    "- Some merge conflict fixes\n",
    "- Fixed someones auth errors with tech aura. I have to find that meme someday. Please someone find it for me. \"tech aura\"\n",
    "\n",
    "## Day 2:\n",
    "- Added local user ID storage. Just storing the user ID the user sets in local storage\n",
    "- Prototyping for saving level progression; although the variable logs work, it keeps resetting the level index to 4 for no apparent reason. Will have to fix this later.\n",
    "- Updating ideation + notebooks for local storage\n",
    "- Made PR but it's integrated with the other LEAAAAM team's commits because I made the PR using main (where we both committed to)\n",
    "\n",
    "## Day 3:\n",
    "- Working on moving the last 2 commits made for ideation to another branch so we're not pushing with the other LEAAAAM team's content. Nearly erased 2 commits from history, but luckily I had it logged locally (`git reflog`). PSA: Don't use `git reset --hard HEAD~2` and `git push --force` unless you no what you're doing.\n",
    "- Seperated the PRs and pushed.\n",
    "\n",
    "Behold!\n",
    "\n",
    "\n",
    "Added this code to `GameControl.js`:\n",
    "\n",
    "```js\n",
    "// Save the current level index to localStorage\n",
    "const currentLevelIndex = GameEnv.levels.indexOf(newLevel);\n",
    "console.log(\"Set currentLevelIndex to localStorage:\", currentLevelIndex);\n",
    "localStorage.setItem('currentLevelIndex', currentLevelIndex);\n",
    "```\n",
    "\n",
    "I placed this under the `async transitionToLevel(newLevel)` so that it logs the level that is transitioned to locally. Theoretically, it a player is transitioning to that level, they have completed the previous level, and thus progression is saved! Logged to local storage and debugging statement in console.\n",
    "\n",
    "I then added this code to `GameSetup.js`:\n",
    "\n",
    "```js\n",
    "const savedLevelIndex = localStorage.getItem('currentLevelIndex');\n",
    "if (savedLevelIndex !== null) {\n",
    "    GameEnv.currentLevel = GameEnv.levels[parseInt(savedLevelIndex)];\n",
    "    GameControl.transitionToLevel(GameEnv.levels[savedLevelIndex]);\n",
    "    console.log(\"Restored level index from localStorage:\", savedLevelIndex);\n",
    "} else {\n",
    "    console.log(\"No saved level index found in localStorage. Starting from the beginning.\");\n",
    "    GameEnv.currentLevel = GameEnv.levels[1];\n",
    "    GameControl.transitionToLevel(GameEnv.levels[1]);\n",
    "}\n",
    "```\n",
    "\n",
    "Basically, retrieve the locally stored level ID, then run the subroutine (more on that in a moment). `GameSetup.js` sets up the game when the browser session is launched, so here we retrieve the local storage item. If it doesn't exist, we just start from the beginning with level index 1. Else, we set the `GameEnv.currentLevel` parameter to the `savedLevelIndex` and transition to that level. That's the subroutine.\n",
    "\n",
    "Not sure why there was a bug in Srinaga's level, but I think it has something to do with his level parameters (requirements to exit). As of now, you can't exit the level because of a bug, so maybe that resets `GameEnv.currentLevel` to ID 4, thus messing up the entire local storage logging. It is done, however! I got Srinaga working on fixing his level. \n",
    "\n",
    "But I digress, locally saved progress seems to work correctly now!\n",
    "\n",
    "Srinaga's level resetting IDs for some reason be like:\n",
    "\n",
    "![ratio-destiny2](https://github.com/user-attachments/assets/3d0b10a7-2e8d-4948-8420-88d84c1e92e7)\n",
    "\n",
    "\n",
    "## Day 4:\n",
    "- Apparently I accidentally completely erased one of the other LEAAAAM member's code. However, I was able to revert the revert by running `git cherry-pick`, fixing the conflicts, then pushing back to main. Please work on branches!\n",
    "\n",
    "- The level local storage progression works, but is sometimes buggy. At first, when I integrated it to the production repo, it was logging an ID called `currentLevel` in local storage that was broken. Weird! I later reloaded it around 5 minutes later, but then the correct variable `currentLevelIndex` was correctly created and the level progression saves worked as intended. Weird.\n",
    "\n",
    "![currentLevel bug](https://github.com/user-attachments/assets/6bf62d7b-99e5-4bd3-b38f-65e5faad3378)\n",
    "\n",
    "- Next fix would be to fix and save the time. Reloading the level resets the time to 0.00 seconds, which is obviously bad if the leaderboard depends on time predominantly. I'm sure this fix would be easy, however.\n",
    "\n",
    "- On another note, some commit in the last 10 PRs is causing the end pipes (to exit the level) to spawn in the air, preventing the player from leaving the level.\n",
    "\n",
    "\n"
   ]
  }
 ],
 "metadata": {
  "language_info": {
   "name": "python"
  }
 },
 "nbformat": 4,
 "nbformat_minor": 2
}
