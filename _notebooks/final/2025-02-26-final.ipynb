{
 "cells": [
  {
   "cell_type": "code",
   "execution_count": null,
   "metadata": {
    "vscode": {
     "languageId": "yaml"
    }
   },
   "outputs": [],
   "source": [
    "---\n",
    "comments: true\n",
    "layout: post\n",
    "title: The Final Retrospective\n",
    "author: Lucas Masterson\n",
    "permalink: /csse/pbl/final\n",
    "category: [ PBL ]\n",
    "type: ccc\n",
    "---"
   ]
  },
  {
   "cell_type": "markdown",
   "metadata": {},
   "source": [
    "## Interests\n",
    "\n",
    "### Rust\n",
    "\n",
    "I've always been REALLY interested in the Rust programming language, and as such I've taken a lot of interest in learning it. In fact, as much as I'd like to deny it, I've spent a lot more time on learning Rust than on the `Platformer4x` game.\n",
    "\n",
    "I've started quite a few projects in Rust mainly for learning (none of them are actually worthy of deployment), but I'll showcase some here:\n",
    "\n",
    "1. [Advent of Code](https://github.com/Parallaxes/advent-of-code) - A collection of my solutions to Advent of Code challenges written in Rust. This was actually my very first introduction to Rust programming, and I think it hurt a *little* bit because moving to actual class based programming with Rust (or at least whatever it's called for Rust) was quite different from the more algorithmic approaches required for AoC. Nonetheless, it was quite helpful to learn all the regular semantics of the language.\n",
    "\n",
    "2. [SGC](https://github.com/Parallaxes/sgc) - Synergy Grade Calculator. My initial attempt at creating software to send and fetch requests. I later ran into problems with cookies, but migrated to Python using the Selenium WebDriver. This is stored locally on my other desktop PC on Visual Studio (which I absolutely detest). I later built a webapp that connected the Python code to JS via a Rust medium using Tauri, but I couldn't figure out how to prevent freezing even while running multithreading. I believe I was running the Python code as a background task, but apparently not. This project was an amazing help towards learning Rust, however.\n",
    "\n",
    "3. All my other random scrapped projects. I've tried writing a lot of miscellaneous projects to learn Rust, and they're all scattered around my Github or scored locally. I'm really enjoying the language so far, but it's been difficult adjusting to Rust's take on OOP (using things like `enum`, `struct`, `impl`, `mod`, etc.).\n",
    "\n",
    "I've also spent quite a bit with some other Rust resources:\n",
    "\n",
    "1. [Jon Gjenset's](https://www.youtube.com/@jonhoo) *longggg* Rust content and especially his [Crust of Rust](https://www.youtube.com/playlist?list=PLqbS7AVVErFiWDOAVrPt7aYmnuuOLYvOa) series - I usually just passively consume his content and it was my introduction to the more OOP based side of Rust (with actually good practices instead of \"whatever the heck I feel like!\").\n",
    "\n",
    "2. [The Book](https://doc.rust-lang.org/book/) - This has been my main reading resource for Rust, and it's been great! Self explanatory, good book, great code, lovely language.\n",
    "\n",
    "3. Bunch of random other resources I find as I go. This includes `Programming Rust, 2nd Edition` (book), `Greedy Gloomers` (ditributed systems challenge), `Exercism` (exercises), `Codewars` (exercises), `PingCap Talent Plan` (exercises + book + roadmap), and whatever else I find.\n",
    "\n",
    "In my introduction to Rust, I've discovered quite a few cool projects, some of which I've tried implementing myself (usually in vain). I've tried my hand at:\n",
    "\n",
    "1. Embedded Rust on an Espressif ESP-32C DevMod Kit - which failed horribly, but was a great learning experience with the Nightly toolchain\n",
    "\n",
    "2. E2E messaging software - cool project that I have no idea how to implement, but I am now!\n",
    "\n",
    "3. And everything here in this [awesome list](https://github.com/rust-unofficial/awesome-rust)\n",
    "\n",
    "There's been a lot of talk about Rust as an up-and-coming language for a load of companies and industries I'm interested in. \n",
    "\n",
    "- I've heard that the Ethereum maintainers recently implemented an experimental Rust blockchain that happens to run much more reliably than its original blockchain. I guess if I ever decide to go into blockchain, that'll be something hopeful to look to.\n",
    "\n",
    "- SpaceX and NASA have both announced that they're quite hopeful about Rust and I'm pretty sure that NASA has already begun using it. I think some other space companies are using MicroPython, and I think my embedded \"experience\" would be a good entryway to that.\n",
    "\n",
    "- Basically every single new company isn't rewriting their legacy code in Rust.... HOWEVER, they are building new products with Rust, so that's great to hear!\n",
    "\n",
    "- Personally, I want to work on something QUITE specific: Guidance & Navigation Control systems for aircraft and airborne projectiles (aka missiles). I remember watching a video a while back about somebody building a rocket with the missile guidance system and having it tilt towards waypoints in the sky, in addition some other videos about the AIM9X Sidewinder missile and other A2A missiles (Fox 2, Splash 1!). I think my current dream job is something at SpaceX working on Starship systems... more on that later.\n",
    "\n",
    "\n",
    "### Assembly\n",
    "\n",
    "Towards the beginning of this school year (9th grade), I spent a lot of time looking into Assembly languages with a focus on `x86 ASM`. I'd spent some time before in 7th and 8th grade competing as a reverse engineer in a few CTF competitions and fell in love with decompiling and rebuilding programs with assembly as a medium. I usually used Ghidra, but sometimes had to look at a lower level using the `gdb` debugging tool. Here's some things I found myself having a lot of fun with:\n",
    "\n",
    "1. [Microcorruption](https://microcorruption.com/) - Really cool site that leads you through both an embedded CTF problem series and a reverse engineering series (which I was more focused on). It was quite fulfilling disassembling the programs and reading the Assembly while exploiting it, so I would highly recommend.\n",
    "\n",
    "2. [ringzer0](https://ringzer0ctf.com/) - Yet another CTF platform focused on crackmes. Great fun, cool puzzles, still working on it now.\n",
    "\n",
    "3. [Programming from the Ground Up](https://download-mirror.savannah.gnu.org/releases/pgubook/ProgrammingGroundUp-1-0-booksize.pdf) - Really, really cool book I followed along to learn ASM from the basics. Writing my first ASM program by myself (with the semantics learned from this book) was VERY endearing. Still trying to chase that same high assembling, linking, and executing the program.\n",
    "\n",
    "4. [Shenzhen I/O](https://www.zachtronics.com/shenzhen-io/) - Nice game I found that uses an esoteric assembly language to program circuits. Been having fun designing and running the circuits at low level -- so much so I decided to write a blog about it [here](https://parallaxes.github.io/shenzhen-io/), built with the Jekyll skills I learned from CSSE, I might add."
   ]
  },
  {
   "cell_type": "markdown",
   "metadata": {},
   "source": [
    "## College\n",
    "\n",
    "Ok, about college. I've got a few mixed ideas. Of course, there's my dream schools: Stanford, MIT, CMU, and Caltech (which I have objectively 0 chance of getting into), and I've got my more realistic options: UC Berkeley, UC San Diego (which I think would be the best overall), Cal Poly SLO, UT Austin, Texas A&M, all the other UCs, U of Toronto, U of Tokyo, U of Kyoto, ETH Zurich, and U of Berlin. Lot of international as you may have noticed.\n",
    "\n",
    "Frankly, I think I'd want to shoot for UC San Diego because it's both in state and near my home (the CS program is amazing, of course), in addition to the fact that San Diego is an amazing work area. If that doesn't work out and I do get into some international school, I think it'd be cool to work abroad, especially in Scandinavia. Quality of life there is great (good welfare, relatively stable, good work culture) and I think I'd be happy developing software at my own pace. \n",
    "\n",
    "Anyhow, main idea is that I'm actually quite ok with whatever college I go to (the reaches would be GREAT), but I'm more interested in the work after than the college, and I think of colleges more as keystone pivots to network to get to said jobs (especially given the competitiveness of the CS market recently)."
   ]
  }
 ],
 "metadata": {
  "language_info": {
   "name": "python"
  }
 },
 "nbformat": 4,
 "nbformat_minor": 2
}
