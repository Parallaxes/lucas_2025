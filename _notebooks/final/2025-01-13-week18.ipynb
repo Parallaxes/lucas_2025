{
 "cells": [
  {
   "cell_type": "code",
   "execution_count": null,
   "metadata": {
    "vscode": {
     "languageId": "yaml"
    }
   },
   "outputs": [],
   "source": [
    "---\n",
    "comments: true\n",
    "layout: post\n",
    "title: CSSE 2 Final Week 18\n",
    "author: Lucas Masterson\n",
    "description: Personal blog for CSSE 2 Final Week 18\n",
    "permalink: /csse/final/week18\n",
    "category: [ PBL ]\n",
    "type: ccc\n",
    "---"
   ]
  },
  {
   "cell_type": "markdown",
   "metadata": {},
   "source": [
    "Quick breakdown of my current stats...\n",
    "\n",
    "Managed ~80 pull requests, acted as project manager. Basically just did a bunch of general work for collaboration. I've also already finished my part of the help system by this point.\n",
    "\n",
    "Few updates today 01/15/2025: I'ved tried setting up a SQL database and hosting it locally using mySQL, and I've also started experimenting with running an ESP32 microcontroller to host a web server. Pretty hard learning all of this, but I'm sure it'll be helpful in the long run.\n",
    "\n",
    "Got the MySQL server running locally + added a leaderboard DB. Now to figure out how the connect the platformer4x to this database hosted.... on my own computer. Oh dear.\n",
    "\n",
    "![server](https://github.com/user-attachments/assets/7187fdaa-3571-4916-84ce-f9ee36195209)\n",
    "\n",
    "Next step would be to add the alternate ending.\n",
    "\n",
    "Review went ok. Dream of a bygone era shall be the databases...\n",
    "\n",
    "Worked a bit on Flocker and Flask, will need to figure out how to fix. \n",
    "\n",
    "Had to fix more merge conflicts for people!"
   ]
  }
 ],
 "metadata": {
  "language_info": {
   "name": "python"
  }
 },
 "nbformat": 4,
 "nbformat_minor": 2
}
