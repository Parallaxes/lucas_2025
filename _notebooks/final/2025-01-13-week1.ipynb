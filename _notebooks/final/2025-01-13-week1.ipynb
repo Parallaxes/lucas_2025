{
 "cells": [
  {
   "cell_type": "code",
   "execution_count": null,
   "metadata": {
    "vscode": {
     "languageId": "yaml"
    }
   },
   "outputs": [],
   "source": [
    "---\n",
    "comments: true\n",
    "layout: post\n",
    "title: CSSE 2 Final Week 1\n",
    "author: Lucas Masterson\n",
    "description: Personal blog for CSSE 2 Final Week 1\n",
    "permalink: /csse/final/week1\n",
    "type: ccc\n",
    "---"
   ]
  },
  {
   "cell_type": "markdown",
   "metadata": {},
   "source": [
    "Quick breakdown of my current stats...\n",
    "\n",
    "Managed ~60 pull requests, acted as project manager. Basically just did a bunch of general work for collaboration. I've also already finished my part of the help system by this point."
   ]
  }
 ],
 "metadata": {
  "language_info": {
   "name": "python"
  }
 },
 "nbformat": 4,
 "nbformat_minor": 2
}
