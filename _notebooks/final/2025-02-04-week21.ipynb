{
 "cells": [
  {
   "cell_type": "code",
   "execution_count": null,
   "metadata": {
    "vscode": {
     "languageId": "yaml"
    }
   },
   "outputs": [],
   "source": [
    "---\n",
    "comments: true\n",
    "layout: post\n",
    "title: CSSE 2 Final Week 21\n",
    "author: Lucas Masterson\n",
    "description: Personal blog for CSSE 2 Final Week 21\n",
    "permalink: /csse/final/week20\n",
    "type: ccc\n",
    "---"
   ]
  },
  {
   "cell_type": "markdown",
   "metadata": {},
   "source": [
    "## Day 1:\n",
    "\n",
    "Tried integrating the adventure game with the platformer game. Was wholly unsuccessful, but I'll try another approach. My origianl approach was loading the adventure game files and platformer files into the same repo, the connecting them using imports + integration file.\n",
    "\n",
    "Here's my integration file: `PlatformerIntegration.js`:\n",
    "\n",
    "```js\n",
    "// File: _site/assets/js/adventureGame/PlatformerIntegration.js\n",
    "import GameControl from '../platformer/GameControl.js';\n",
    "import GameEnv from '../platformer/GameEnv.js';\n",
    "\n",
    "export function transitionToPlatformerLevel(levelTag) {\n",
    "    // Find the platformer game level by tag\n",
    "    //const level = GameEnv.levels.find(l => l.tag === levelTag);\n",
    "    console.log(\"transiitoning to level\", levelTag);\n",
    "    if (level) {\n",
    "        // Transition to the platformer game level\n",
    "        console.log(`Transitioned to level with tag ${levelTag}.`);\n",
    "        GameControl.transitionToLevel(levelTag);\n",
    "    } else {\n",
    "        console.error(`Level with tag ${levelTag} not found.`);\n",
    "    }\n",
    "}\n",
    "```\n",
    "\n",
    "and here's `adventureGame.md`:\n",
    "\n",
    "```html\n",
    "<script type=\"module\">\n",
    "    import AdventureGameControl from '{{site.baseurl}}/assets/js/adventureGame/GameControl.js';\n",
    "    import Prompt from '{{site.baseurl}}/assets/js/adventureGame/Prompt.js';\n",
    "    import { getStats } from '{{site.baseurl}}/assets/js/adventureGame/StatsManager.js';\n",
    "    import GameSetup from '{{site.baseurl}}/assets/js/platformer/GameSetup.js';\n",
    "    import PlatformerGameControl from '{{site.baseurl}}/assets/js/platformer/GameControl.js';\n",
    "    import SettingsControl from '{{site.baseurl}}/assets/js/platformer/SettingsControl.js';\n",
    "    import GameEnv from '{{site.baseurl}}/assets/js/platformer/GameEnv.js';\n",
    "    import Leaderboard from '{{site.baseurl}}/assets/js/platformer/Leaderboard.js';\n",
    "```\n",
    "\n",
    "which amounted to 37 changed files of 1860 additions. \n",
    "\n",
    "This looks to not be working, but I think I'll try writing the platformer game partially from scratch so I can better start envs inside adventure. Painnnnnn."
   ]
  }
 ],
 "metadata": {
  "language_info": {
   "name": "python"
  }
 },
 "nbformat": 4,
 "nbformat_minor": 2
}
