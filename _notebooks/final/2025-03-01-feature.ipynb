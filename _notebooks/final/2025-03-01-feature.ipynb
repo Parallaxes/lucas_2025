{
 "cells": [
  {
   "cell_type": "markdown",
   "metadata": {},
   "source": [
    "---\n",
    "comments: true\n",
    "layout: post\n",
    "title: Latest Game Feature\n",
    "author: Lucas Masterson\n",
    "permalink: /csse/pbl/feature\n",
    "category: [ PBL ]\n",
    "type: ccc\n",
    "---"
   ]
  },
  {
   "cell_type": "markdown",
   "metadata": {},
   "source": [
    "## Boss.... Fight?\n",
    "\n",
    "Latest feature I added is more of a complete development depending on which way you look at it. I commited a prototype version then an updated version with exit methods, so it could depend. Anyhow, here I worked on a boss level where \n",
    "\n",
    "- Red ~~placeholder~~ boxes (it's a feature!) are placed randomly on the screen within a range and kill the player, so the player has to dodge these. \n",
    "- To actually exit the level, the player must collect \"shards\" that damage the boss;\n",
    "- The player may only exit when the boss is defeated.\n",
    "\n",
    "Refer to [this blog](https://parallaxes.github.io/lucas_2025/csse/final/week21) and [this blog](https://parallaxes.github.io/lucas_2025/csse/final/week22)."
   ]
  },
  {
   "cell_type": "markdown",
   "metadata": {},
   "source": [
    "![boss fight schematic]({{site.baseurl}}/images/bossfight.drawio.png)"
   ]
  }
 ],
 "metadata": {
  "language_info": {
   "name": "python"
  }
 },
 "nbformat": 4,
 "nbformat_minor": 2
}
