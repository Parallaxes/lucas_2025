{
 "cells": [
  {
   "cell_type": "code",
   "execution_count": null,
   "metadata": {
    "vscode": {
     "languageId": "yaml"
    }
   },
   "outputs": [],
   "source": [
    "---\n",
    "comments: true\n",
    "layout: post\n",
    "title: CSSE 2 Final Week 20\n",
    "author: Lucas Masterson\n",
    "description: Personal blog for CSSE 2 Final Week 20\n",
    "permalink: /csse/final/week20\n",
    "type: ccc\n",
    "---"
   ]
  },
  {
   "cell_type": "markdown",
   "metadata": {},
   "source": [
    "Quick current breakdown of my stats:\n",
    "\n",
    "- Around 90 PRs now!\n",
    "\n",
    "Ok, now for the important stuff. After I finished saving level progress locally in Week 19, I decided I wanted to save time. Here's the burndown list item:\n",
    "\n",
    "> Add time saves so time does not reset to 0 when loading from local storage progress (allows for very fast game times, counterproductive to a leaderboard).\n",
    "\n",
    "\n",
    "## Day 1:\n",
    "\n",
    "Added locally stored time to game (yay!)\n",
    "\n",
    "`GameControl.js`\n",
    "\n",
    "```js\n",
    "updateTimer() {\n",
    "        const time = GameEnv.time\n",
    "\n",
    "        // Subroutine to update time in local storage\n",
    "        localStorage.setItem(this.lastLocalStorageTime, time)\n",
    "        console.log(\"last local storage time set to: \" + localStorage.getItem(this.lastLocalStorageTime))\n",
    "        \n",
    "        if (GameEnv.timerActive) {\n",
    "            const newTime = time + GameEnv.timerInterval\n",
    "            GameEnv.time = newTime              \n",
    "\n",
    "            if (document.getElementById('timeScore')) {\n",
    "                document.getElementById('timeScore').textContent = (time/1000).toFixed(2) \n",
    "            }\n",
    "            return newTime\n",
    "        }\n",
    "        if (document.getElementById('timeScore')) {\n",
    "            document.getElementById('timeScore').textContent = (time/1000).toFixed(2) \n",
    "        }\n",
    "    },\n",
    "```\n",
    "\n",
    "`GameSetup.js`\n",
    "\n",
    "```js\n",
    "// Load the GameControl.lastLocalStorageTime value\n",
    "const savedTime = localStorage.getItem(GameControl.lastLocalStorageTime);\n",
    "\n",
    "// Set game time to saved local time or 0 if not set\n",
    "// Note: local storage key values are stored as strings, so have to convert to int\n",
    "GameEnv.time = savedTime ? parseInt(savedTime, 10) : 0;\n",
    "```\n",
    "\n",
    "You might have noticed how I added a few comments in the last 3 lines. When I did my first implementation of this method, it seems to update the `GameControl.lastLocalStorageTime` key value by appending the `GameEnv.time` value to the end of the locally stored value, causing the time in game to quickly increase to Infinity. *Apparently*, I forgot that local storage values were stored as strings (which was written in the help system doc file that I WROTE). Anyhow, the fix is quick: just parse `savedTime` as an integer, hence the `parseInt(savedTime, 10)`, where `10` indicates base 10 (decimal). Also, I love ternary operators!\n",
    "\n",
    "\n",
    "## Day 2:\n",
    "\n",
    "A rather catastrophic day has befell the CSSE 2 class. Our entire focus has shifted to another codebase because of poor performance with `platformer4x`, but I see some opporunity to do some cooler stuff."
   ]
  }
 ],
 "metadata": {
  "language_info": {
   "name": "python"
  }
 },
 "nbformat": 4,
 "nbformat_minor": 2
}
