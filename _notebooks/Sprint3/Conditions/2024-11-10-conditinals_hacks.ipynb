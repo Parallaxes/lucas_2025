{
 "cells": [
  {
   "cell_type": "raw",
   "metadata": {
    "vscode": {
     "languageId": "raw"
    }
   },
   "source": [
    "---\n",
    "comments: True\n",
    "layout: post\n",
    "title: conditionals lesson hacks\n",
    "description: conditionals hacks\n",
    "permalink: /csse/javascript/fundamentals/conditionals/hacks\n",
    "type: ccc\n",
    "---"
   ]
  },
  {
   "cell_type": "markdown",
   "metadata": {},
   "source": [
    "# Popcorn Hack 1: Create a Simple Combat System for Your RPG Game"
   ]
  },
  {
   "cell_type": "markdown",
   "metadata": {},
   "source": [
    "Develop a basic combat system that allows characters to engage in battles with enemies. This will help you practice using functions, conditionals, and basic game mechanics in JavaScript."
   ]
  },
  {
   "cell_type": "markdown",
   "metadata": {},
   "source": [
    "## Popcorn Hack Part 1 - 1\n",
    "\n",
    "Using function `intializeData`\n",
    "\n",
    "1. Add `speed` to the `function intializeData(data = null)`  and give it a default value.\n",
    "2. Add `seed` to the HTML output.\n",
    "3. Add `speed` to JSON data.\n",
    "4. Try make call to `initializeData` with `no argument` and using `data` JSON object as argument when call "
   ]
  },
  {
   "cell_type": "code",
   "execution_count": 3,
   "metadata": {
    "vscode": {
     "languageId": "html"
    }
   },
   "outputs": [
    {
     "data": {
      "text/html": [
       "\n",
       "<output id=\"output\"></output>\n",
       "\n",
       "<script>\n",
       "function intializeData(data = null) {\n",
       "    // Define default values\n",
       "    let scaleFactor = 9/16;\n",
       "    let animationRate = 1;\n",
       "    let position = [0, 0];\n",
       "    let speed = 10; // Default value for speed\n",
       "\n",
       "    // Check if data is provided\n",
       "    if (data) {\n",
       "        scaleFactor = data.SCALE_FACTOR || scaleFactor;\n",
       "        animationRate = data.ANIMATION_RATE || animationRate;\n",
       "        position = data.INIT_POSITION || position;\n",
       "        speed = data.SPEED || speed; // Assign speed from data if available\n",
       "    }\n",
       "\n",
       "    document.getElementById(\"output\").innerHTML = `\n",
       "        <p>Scale Factor: ${scaleFactor}</p>\n",
       "        <p>Animation Rate: ${animationRate}</p>\n",
       "        <p>Initial Position: ${position}</p>\n",
       "        <p>Speed: ${speed}</p> <!-- Add speed to HTML output -->\n",
       "    `;\n",
       "}\n",
       "\n",
       "var data = {\n",
       "    SCALE_FACTOR: 1/1,\n",
       "    ANIMATION_RATE: 25,\n",
       "    INIT_POSITION: [100, 100],\n",
       "    SPEED: 20 // Add speed to JSON data\n",
       "}\n",
       "\n",
       "// Uncomment one of the following lines to test the if statement in the function\n",
       "//intializeData();\n",
       "intializeData(data);\n",
       "\n",
       "</script>\n"
      ],
      "text/plain": [
       "<IPython.core.display.HTML object>"
      ]
     },
     "metadata": {},
     "output_type": "display_data"
    }
   ],
   "source": [
    "%%html\n",
    "\n",
    "<output id=\"output\"></output>\n",
    "\n",
    "<script>\n",
    "function intializeData(data = null) {\n",
    "    // Define default values\n",
    "    let scaleFactor = 9/16;\n",
    "    let animationRate = 1;\n",
    "    let position = [0, 0];\n",
    "    let speed = 10; // Default value for speed\n",
    "\n",
    "    // Check if data is provided\n",
    "    if (data) {\n",
    "        scaleFactor = data.SCALE_FACTOR || scaleFactor;\n",
    "        animationRate = data.ANIMATION_RATE || animationRate;\n",
    "        position = data.INIT_POSITION || position;\n",
    "        speed = data.SPEED || speed; // Assign speed from data if available\n",
    "    }\n",
    "\n",
    "    document.getElementById(\"output\").innerHTML = `\n",
    "        <p>Scale Factor: ${scaleFactor}</p>\n",
    "        <p>Animation Rate: ${animationRate}</p>\n",
    "        <p>Initial Position: ${position}</p>\n",
    "        <p>Speed: ${speed}</p> <!-- Add speed to HTML output -->\n",
    "    `;\n",
    "}\n",
    "\n",
    "var data = {\n",
    "    SCALE_FACTOR: 1/1,\n",
    "    ANIMATION_RATE: 25,\n",
    "    INIT_POSITION: [100, 100],\n",
    "    SPEED: 20 // Add speed to JSON data\n",
    "}\n",
    "\n",
    "// Uncomment one of the following lines to test the if statement in the function\n",
    "//intializeData();\n",
    "intializeData(data);\n",
    "\n",
    "</script>"
   ]
  },
  {
   "cell_type": "markdown",
   "metadata": {},
   "source": [
    "## Popcorn Hack Part 1 - 2\n",
    "\n",
    "On `handleKeyDown({ keyCode }` switch statement can you add conditions for IJKL keys.\n",
    "\n",
    "1. Add a `case` statement for each of the IJKL keys\n",
    "2. Send key code for IJKL keys to method `gameObject.handleKeyDown` \n",
    "3. Output `gameObject` using console.log"
   ]
  },
  {
   "cell_type": "code",
   "execution_count": 4,
   "metadata": {
    "vscode": {
     "languageId": "javascript"
    }
   },
   "outputs": [
    {
     "data": {
      "application/javascript": "\nclass GameObject {\n    constructor() {\n        this.velocity = { x: 0, y: 0 };\n        this.direction = '';\n        this.xVelocity = 1;\n        this.yVelocity = 1;\n    }\n\n    handleKeyDown({ keyCode }) {\n        switch (keyCode) {\n            case 87: // 'W' key\n                this.direction = 'up';\n                break;\n            case 65: // 'A' key\n                this.direction = 'left';\n                break;\n            case 83: // 'S' key\n                this.direction = 'down';\n                break;\n            case 68: // 'D' key\n                this.direction = 'right';\n                break;\n            // Who needs the OR logic operator anyway??\n            case 73: // 'I' key\n                this.direction = 'up';\n                break;\n            case 74: // 'J' key\n                this.direction = 'left';\n                break;\n            case 75: // 'K' key\n                this.direction = 'down';\n                break;\n            case 76: // 'L' key\n                this.direction = 'right';\n                break;\n        }\n    }\n}\n\n// Example usage\nconst gameObject = new GameObject();\nconsole.log('Initial State:', gameObject);\n\ngameObject.handleKeyDown({ keyCode: 87 }); // Simulate 'W' key press\nconsole.log('After W Key Press:', gameObject);\n\ngameObject.handleKeyDown({ keyCode: 65 }); // Simulate 'A' key press\nconsole.log('After A Key Press:', gameObject);\n\ngameObject.handleKeyDown({ keyCode: 83 }); // Simulate 'S' key press\nconsole.log('After S Key Press:', gameObject);\n\ngameObject.handleKeyDown({ keyCode: 68 }); // Simulate 'D' key press\nconsole.log('After D Key Press:', gameObject);\n\ngameObject.handleKeyDown({ keyCode: 73 }); // Simulate 'I' key press\nconsole.log('After I Key Press:', gameObject);\n\ngameObject.handleKeyDown({ keyCode: 74 }); // Simulate 'J' key press\nconsole.log('After J Key Press:', gameObject);\n\ngameObject.handleKeyDown({ keyCode: 75 }); // Simulate 'K' key press\nconsole.log('After K Key Press:', gameObject);\n\ngameObject.handleKeyDown({ keyCode: 76 }); // Simulate 'L' key press\nconsole.log('After L Key Press:', gameObject);\n",
      "text/plain": [
       "<IPython.core.display.Javascript object>"
      ]
     },
     "metadata": {},
     "output_type": "display_data"
    }
   ],
   "source": [
    "%%javascript\n",
    "\n",
    "class GameObject {\n",
    "    constructor() {\n",
    "        this.velocity = { x: 0, y: 0 };\n",
    "        this.direction = '';\n",
    "        this.xVelocity = 1;\n",
    "        this.yVelocity = 1;\n",
    "    }\n",
    "\n",
    "    handleKeyDown({ keyCode }) {\n",
    "        switch (keyCode) {\n",
    "            case 87: // 'W' key\n",
    "                this.direction = 'up';\n",
    "                break;\n",
    "            case 65: // 'A' key\n",
    "                this.direction = 'left';\n",
    "                break;\n",
    "            case 83: // 'S' key\n",
    "                this.direction = 'down';\n",
    "                break;\n",
    "            case 68: // 'D' key\n",
    "                this.direction = 'right';\n",
    "                break;\n",
    "            // Who needs the OR logic operator anyway??\n",
    "            case 73: // 'I' key\n",
    "                this.direction = 'up';\n",
    "                break;\n",
    "            case 74: // 'J' key\n",
    "                this.direction = 'left';\n",
    "                break;\n",
    "            case 75: // 'K' key\n",
    "                this.direction = 'down';\n",
    "                break;\n",
    "            case 76: // 'L' key\n",
    "                this.direction = 'right';\n",
    "                break;\n",
    "        }\n",
    "    }\n",
    "}\n",
    "\n",
    "// Example usage\n",
    "const gameObject = new GameObject();\n",
    "console.log('Initial State:', gameObject);\n",
    "\n",
    "gameObject.handleKeyDown({ keyCode: 87 }); // Simulate 'W' key press\n",
    "console.log('After W Key Press:', gameObject);\n",
    "\n",
    "gameObject.handleKeyDown({ keyCode: 65 }); // Simulate 'A' key press\n",
    "console.log('After A Key Press:', gameObject);\n",
    "\n",
    "gameObject.handleKeyDown({ keyCode: 83 }); // Simulate 'S' key press\n",
    "console.log('After S Key Press:', gameObject);\n",
    "\n",
    "gameObject.handleKeyDown({ keyCode: 68 }); // Simulate 'D' key press\n",
    "console.log('After D Key Press:', gameObject);\n",
    "\n",
    "gameObject.handleKeyDown({ keyCode: 73 }); // Simulate 'I' key press\n",
    "console.log('After I Key Press:', gameObject);\n",
    "\n",
    "gameObject.handleKeyDown({ keyCode: 74 }); // Simulate 'J' key press\n",
    "console.log('After J Key Press:', gameObject);\n",
    "\n",
    "gameObject.handleKeyDown({ keyCode: 75 }); // Simulate 'K' key press\n",
    "console.log('After K Key Press:', gameObject);\n",
    "\n",
    "gameObject.handleKeyDown({ keyCode: 76 }); // Simulate 'L' key press\n",
    "console.log('After L Key Press:', gameObject);"
   ]
  },
  {
   "cell_type": "markdown",
   "metadata": {},
   "source": [
    "# Hack 3"
   ]
  },
  {
   "cell_type": "markdown",
   "metadata": {},
   "source": [
    "Use the ternary operator make an output apear if you meet the level requerments otherwise output a message that telss the player that they are under leveled"
   ]
  },
  {
   "cell_type": "code",
   "execution_count": 9,
   "metadata": {
    "vscode": {
     "languageId": "javascript"
    }
   },
   "outputs": [
    {
     "data": {
      "application/javascript": "\nlet playerLevel = 50;\nlet requiredLevel = 50;\nlet playerXP = 1200;\n\nfunction isLeveled(playerLevel, requiredLevel) {\n    return (playerLevel >= requiredLevel) ? \"Proceed with your action!\" : \"You need to level up!\";\n}\n\nfunction calculateXPToNextLevel(playerLevel) {\n    return (playerLevel + 1) * 100; // Example XP calculation\n}\n\nfunction levelUp(playerLevel, playerXP) {\n    let xpToNextLevel = calculateXPToNextLevel(playerLevel);\n    if (playerXP >= xpToNextLevel) {\n        playerLevel++;\n        playerXP -= xpToNextLevel;\n        console.log(`Congratulations! You've leveled up to level ${playerLevel}.`);\n    } else {\n        console.log(`You need ${xpToNextLevel - playerXP} more XP to level up.`);\n    }\n    return { playerLevel, playerXP };\n}\n\nconsole.log(isLeveled(playerLevel, requiredLevel)); // Output: Proceed with your action!\n\nlet result = levelUp(playerLevel, playerXP);\nplayerLevel = result.playerLevel;\nplayerXP = result.playerXP;\n\nconsole.log(`Player Level: ${playerLevel}, Player XP: ${playerXP}`);\n",
      "text/plain": [
       "<IPython.core.display.Javascript object>"
      ]
     },
     "metadata": {},
     "output_type": "display_data"
    }
   ],
   "source": [
    "%%js\n",
    "\n",
    "let playerLevel = 50;\n",
    "let requiredLevel = 50;\n",
    "let playerXP = 1200;\n",
    "\n",
    "function isLeveled(playerLevel, requiredLevel) {\n",
    "    return (playerLevel >= requiredLevel) ? \"Proceed with your action!\" : \"You need to level up!\";\n",
    "}\n",
    "\n",
    "function calculateXPToNextLevel(playerLevel) {\n",
    "    return (playerLevel + 1) * 100; // Example XP calculation\n",
    "}\n",
    "\n",
    "function levelUp(playerLevel, playerXP) {\n",
    "    let xpToNextLevel = calculateXPToNextLevel(playerLevel);\n",
    "    if (playerXP >= xpToNextLevel) {\n",
    "        playerLevel++;\n",
    "        playerXP -= xpToNextLevel;\n",
    "        console.log(`Congratulations! You've leveled up to level ${playerLevel}.`);\n",
    "    } else {\n",
    "        console.log(`You need ${xpToNextLevel - playerXP} more XP to level up.`);\n",
    "    }\n",
    "    return { playerLevel, playerXP };\n",
    "}\n",
    "\n",
    "console.log(isLeveled(playerLevel, requiredLevel)); // Output: Proceed with your action!\n",
    "\n",
    "let result = levelUp(playerLevel, playerXP);\n",
    "playerLevel = result.playerLevel;\n",
    "playerXP = result.playerXP;\n",
    "\n",
    "console.log(`Player Level: ${playerLevel}, Player XP: ${playerXP}`);"
   ]
  }
 ],
 "metadata": {
  "kernelspec": {
   "display_name": "venv",
   "language": "python",
   "name": "python3"
  },
  "language_info": {
   "codemirror_mode": {
    "name": "ipython",
    "version": 3
   },
   "file_extension": ".py",
   "mimetype": "text/x-python",
   "name": "python",
   "nbconvert_exporter": "python",
   "pygments_lexer": "ipython3",
   "version": "3.12.3"
  }
 },
 "nbformat": 4,
 "nbformat_minor": 2
}
