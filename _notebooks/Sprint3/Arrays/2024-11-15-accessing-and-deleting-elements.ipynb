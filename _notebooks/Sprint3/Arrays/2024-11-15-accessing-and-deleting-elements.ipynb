{
 "cells": [
  {
   "cell_type": "code",
   "execution_count": null,
   "metadata": {
    "vscode": {
     "languageId": "yaml"
    }
   },
   "outputs": [],
   "source": [
    "---\n",
    "layout: post\n",
    "title: Accessing, Deleting, and Assigning a Value to Elements\n",
    "description: How to access elements in a list, and applying that to delete, add, and alter elements in a list. \n",
    "categories: [JavaScript]\n",
    "permalink: /csse/javascript/fundamentals/arrays/hw\n",
    "author: Zoe Chow\n",
    "comments: true\n",
    "---"
   ]
  },
  {
   "cell_type": "markdown",
   "metadata": {},
   "source": [
    "# Accessing and Deleting Elements\n",
    "\n",
    "## Accessing an Element\n",
    "\n",
    "In javascript, we use a system of positive indexing to access elements. With postive indexing, elements are referred based on their position in reference to the start of the list. Counting starts at 0, so the first item in list would be position 0.\n",
    "\n",
    "Ex: let list = [1, 2, 3, 4, 5];\n",
    "\n",
    "So in this case to reference 1 you would write list[0] and not list[1]. list 1[1] would refer to 2.\n",
    "\n",
    "\n",
    "\n",
    "\n",
    "\n",
    "\n"
   ]
  },
  {
   "cell_type": "code",
   "execution_count": null,
   "metadata": {
    "vscode": {
     "languageId": "javascript"
    }
   },
   "outputs": [],
   "source": [
    "%%js\n",
    "\n",
    "let list = [1, 2, 3, 4, 5];\n",
    "\n",
    "console.log(list[0]); // prints 1\n",
    "console.log(list[1]); // prints 2\n",
    "console.log(list[2]); // prints 3\n",
    "console.log(list[3]); // prints 4\n",
    "console.log(list[4]); // prints 5 \n"
   ]
  },
  {
   "cell_type": "markdown",
   "metadata": {},
   "source": [
    "## Deleting an Element\n",
    "\n",
    "To delete an element in javascript, you would use pop(index) or splice(). \n",
    "\n",
    "pop(index) - removes/deletes the last element in a list\n",
    "\n",
    "splice(position(index), # of elements your deleting) - deletes an element or elements from a specific position in the list."
   ]
  },
  {
   "cell_type": "code",
   "execution_count": null,
   "metadata": {
    "vscode": {
     "languageId": "javascript"
    }
   },
   "outputs": [],
   "source": [
    "%%js\n",
    "\n",
    "let list2 = ['One', 'Two', 'Three', 'Four', 'Five'];\n",
    "\n",
    "// original list\n",
    "console.log(list2)\n",
    "\n",
    "// deletes the last value\n",
    "list.pop();\n",
    "console.log(list2)\n",
    "\n",
    "// deletes the third value, Three\n",
    "list.splice(2, 1);\n",
    "\n",
    "console.log(list2)\n"
   ]
  },
  {
   "cell_type": "markdown",
   "metadata": {},
   "source": [
    "Example of deleting multiple elements with splice in HTML"
   ]
  },
  {
   "cell_type": "code",
   "execution_count": null,
   "metadata": {
    "vscode": {
     "languageId": "html"
    }
   },
   "outputs": [
    {
     "data": {
      "text/html": [
       "<!-- A container to display the list -->\n",
       "<div id=\"listContainer\"></div>\n",
       "\n",
       "<script>\n",
       "    window.setTimeout(function () {\n",
       "        let exList = ['This', 'is', 'an', 'example'];\n",
       "\n",
       "        exList.splice(1, 2)\n",
       "\n",
       "        // Find the container where we will display the list\n",
       "        let listContainer = document.getElementById('listContainer');\n",
       "\n",
       "        // Join the list items into a single string separated by spaces\n",
       "        listContainer.innerHTML = exList.join(' ');\n",
       "    }, 100);  // Delay to ensure the HTML has rendered\n",
       "</script>\n",
       "\n"
      ],
      "text/plain": [
       "<IPython.core.display.HTML object>"
      ]
     },
     "metadata": {},
     "output_type": "display_data"
    }
   ],
   "source": [
    "%%html\n",
    "<!-- HTML output -->\n",
    "<div id=\"listContainer\"></div>\n",
    "\n",
    "<script>\n",
    "    window.setTimeout(function () {\n",
    "        let exList = ['This', 'is', 'an', 'example'];\n",
    "\n",
    "        exList.splice(1, 2)\n",
    "\n",
    "        // Find the container where we will display the list\n",
    "        let listContainer = document.getElementById('listContainer');\n",
    "\n",
    "        // Join the list items into a single string separated by spaces\n",
    "        listContainer.innerHTML = exList.join(' ');\n",
    "    }, 100);  // Delay to ensure the HTML has rendered\n",
    "</script>\n",
    "\n"
   ]
  },
  {
   "cell_type": "markdown",
   "metadata": {},
   "source": [
    "## Assigning and Adding Values\n",
    "\n",
    "Values can also be assigned to a list. You can have an empty list and add values to it, or you can change values in a preexisting list."
   ]
  },
  {
   "cell_type": "markdown",
   "metadata": {},
   "source": [
    "Example of assigning a value"
   ]
  },
  {
   "cell_type": "code",
   "execution_count": 6,
   "metadata": {
    "vscode": {
     "languageId": "javascript"
    }
   },
   "outputs": [
    {
     "data": {
      "application/javascript": "\nlet list3 = [1, 2, 3, 4, 5]\n\n// assigns a different value to the element in position 4, changes 5 to 10\nlist3[4] = 10;\nconsole.log(list3)\n",
      "text/plain": [
       "<IPython.core.display.Javascript object>"
      ]
     },
     "metadata": {},
     "output_type": "display_data"
    }
   ],
   "source": [
    "%%js\n",
    "\n",
    "let list3 = [1, 2, 3, 4, 5]\n",
    "\n",
    "// assigns a different value to the element in position 4, changes 5 to 10\n",
    "list3[4] = 10;\n",
    "console.log(list3)\n"
   ]
  },
  {
   "cell_type": "markdown",
   "metadata": {},
   "source": [
    "Example of adding values"
   ]
  },
  {
   "cell_type": "code",
   "execution_count": null,
   "metadata": {
    "vscode": {
     "languageId": "javascript"
    }
   },
   "outputs": [],
   "source": [
    "%%js\n",
    "\n",
    "// empty list\n",
    "let list4 = []\n",
    "\n",
    "// adds items\n",
    "list4.push('I')\n",
    "list4.push('II')\n",
    "list4.push('III')\n",
    "\n",
    "// print list\n",
    "console.log(list4)"
   ]
  },
  {
   "cell_type": "markdown",
   "metadata": {},
   "source": [
    "HTML example with both"
   ]
  },
  {
   "cell_type": "code",
   "execution_count": null,
   "metadata": {
    "vscode": {
     "languageId": "html"
    }
   },
   "outputs": [
    {
     "data": {
      "text/html": [
       "<!-- A container to display the list -->\n",
       "<div id=\"output\"></div>\n",
       "\n",
       "<script>\n",
       "    window.setTimeout(function () {\n",
       "        let list5 = ['1'];\n",
       "        \n",
       "        list5[0] = 'I'\n",
       "        list5.push('II')\n",
       "        list5.push('III')\n",
       "\n",
       "        // Find the container where we will display the list\n",
       "        let output = document.getElementById('output');\n",
       "\n",
       "        // Join the list items into a single string separated by spaces\n",
       "        output.innerHTML = list5.join(', ');\n",
       "    }, 100);  // Delay to ensure the HTML has rendered\n",
       "</script>\n"
      ],
      "text/plain": [
       "<IPython.core.display.HTML object>"
      ]
     },
     "metadata": {},
     "output_type": "display_data"
    }
   ],
   "source": [
    "%%html\n",
    "<!-- HTML output -->\n",
    "<div id=\"output\"></div>\n",
    "\n",
    "<script>\n",
    "    window.setTimeout(function () {\n",
    "        let list5 = ['1'];\n",
    "        \n",
    "        // assigns/changes 1 to I\n",
    "        list5[0] = 'I'\n",
    "        \n",
    "        // adds II and III\n",
    "        list5.push('II')\n",
    "        list5.push('III')\n",
    "\n",
    "        // Find the container where we will display the list\n",
    "        let output = document.getElementById('output');\n",
    "\n",
    "        // Join the list items into a single string separated by spaces\n",
    "        output.innerHTML = list5.join(', ');\n",
    "    }, 100);  // Delay to ensure the HTML has rendered\n",
    "</script>\n"
   ]
  },
  {
   "cell_type": "markdown",
   "metadata": {},
   "source": [
    "## Popcorn Hack 2\n",
    "\n",
    "- Delete the last two items of the list below (delete1 and delete2)\n",
    "- Change the non dessert item (fries) to a dessert\n",
    "- Add two more desserts to list"
   ]
  },
  {
   "cell_type": "code",
   "execution_count": 4,
   "metadata": {
    "vscode": {
     "languageId": "javascript"
    }
   },
   "outputs": [
    {
     "data": {
      "application/javascript": "\nlet desserts = ['cake', 'ice cream', 'cookies', 'fries', 'delete1', 'delete2'];\n// Why use push when you can hardcode?\n\ndesserts.splice(4, 5);\ndesserts[3] = 'pies';\ndesserts.push(\"crepes\", \"donuts\");\nconsole.log(desserts.join(\", \"));\n",
      "text/plain": [
       "<IPython.core.display.Javascript object>"
      ]
     },
     "metadata": {},
     "output_type": "display_data"
    }
   ],
   "source": [
    "%%js\n",
    "\n",
    "let desserts = ['cake', 'ice cream', 'cookies', 'fries', 'delete1', 'delete2'];\n",
    "// Why use push when you can hardcode?\n",
    "\n",
    "desserts.splice(4, 5);\n",
    "desserts[3] = 'pies';\n",
    "desserts.push(\"crepes\", \"donuts\");\n",
    "console.log(desserts.join(\", \"));"
   ]
  }
 ],
 "metadata": {
  "kernelspec": {
   "display_name": "venv",
   "language": "python",
   "name": "python3"
  },
  "language_info": {
   "codemirror_mode": {
    "name": "ipython",
    "version": 3
   },
   "file_extension": ".py",
   "mimetype": "text/x-python",
   "name": "python",
   "nbconvert_exporter": "python",
   "pygments_lexer": "ipython3",
   "version": "3.12.3"
  }
 },
 "nbformat": 4,
 "nbformat_minor": 2
}
