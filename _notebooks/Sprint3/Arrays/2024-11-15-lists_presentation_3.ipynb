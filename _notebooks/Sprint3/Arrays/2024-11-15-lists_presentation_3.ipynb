{
 "cells": [
  {
   "cell_type": "code",
   "execution_count": null,
   "metadata": {},
   "outputs": [],
   "source": [
    "---\n",
    "comments: true\n",
    "layout: post\n",
    "title: Length of a List & Finding Minimum values, & Elements in an Array\n",
    "description: A guide to finding the length of a list, minimum values, and elements in an array.\n",
    "permalink: /_notebooks/project_lists/\n",
    "categories: [Lists]\n",
    "author: Leila\n",
    "---"
   ]
  },
  {
   "cell_type": "markdown",
   "metadata": {},
   "source": [
    "## Length of a List\n",
    "In JavaScript, the length of a list (also known as an array) refers to the number of elements it contains. It can be accessed using the (.length) property, which shows the total number of elements in the array.\n",
    "\n",
    "## Javascript Example:"
   ]
  },
  {
   "cell_type": "markdown",
   "metadata": {},
   "source": [
    "### Words Example:"
   ]
  },
  {
   "cell_type": "code",
   "execution_count": 10,
   "metadata": {
    "vscode": {
     "languageId": "html"
    }
   },
   "outputs": [
    {
     "data": {
      "text/html": [
       "\n",
       "<!DOCTYPE html>\n",
       "<html lang=\"en\">\n",
       "<head>\n",
       "    <meta charset=\"UTF-8\">\n",
       "    <meta name=\"viewport\" content=\"width=device-width, initial-scale=1.0\">\n",
       "    <title>Display List</title>\n",
       "</head>\n",
       "<body>\n",
       "\n",
       "    <h1>List of Cats</h1>\n",
       "\n",
       "    <!-- This is where the list will be displayed -->\n",
       "    <div id=\"cat-list\"></div>\n",
       "\n",
       "    <script>\n",
       "        // The list that will display\n",
       "        let my_list = ['cat0', 'cat1', 'cat2', 'cat3'];\n",
       "\n",
       "        // Calculate the length of the list\n",
       "        const length = my_list.length;\n",
       "\n",
       "        document.getElementById('cat-list').innerHTML = `\n",
       "            <p>List of cats: ${my_list.join(', ')}</p>\n",
       "            <p>Length of the list: ${length}</p>\n",
       "        `;\n",
       "    </script>\n",
       "\n",
       "</body>\n",
       "</html>\n"
      ],
      "text/plain": [
       "<IPython.core.display.HTML object>"
      ]
     },
     "metadata": {},
     "output_type": "display_data"
    }
   ],
   "source": [
    "%%html\n",
    "\n",
    "<!DOCTYPE html>\n",
    "<html lang=\"en\">\n",
    "<head>\n",
    "    <meta charset=\"UTF-8\">\n",
    "    <meta name=\"viewport\" content=\"width=device-width, initial-scale=1.0\">\n",
    "    <title>Display List</title>\n",
    "</head>\n",
    "<body>\n",
    "\n",
    "    <h1>List of Cats</h1>\n",
    "\n",
    "    <!-- This is where the list will be displayed -->\n",
    "    <div id=\"cat-list\"></div>\n",
    "\n",
    "    <script>\n",
    "        // The list that will display\n",
    "        let my_list = ['cat0', 'cat1', 'cat2', 'cat3'];\n",
    "\n",
    "        // Calculate the length of the list\n",
    "        const length = my_list.length;\n",
    "\n",
    "        document.getElementById('cat-list').innerHTML = `\n",
    "            <p>List of cats: ${my_list.join(', ')}</p>\n",
    "            <p>Length of the list: ${length}</p>\n",
    "        `;\n",
    "    </script>\n",
    "\n",
    "</body>\n",
    "</html>\n"
   ]
  },
  {
   "cell_type": "markdown",
   "metadata": {},
   "source": [
    "### Number Example:"
   ]
  },
  {
   "cell_type": "code",
   "execution_count": 7,
   "metadata": {
    "vscode": {
     "languageId": "javascript"
    }
   },
   "outputs": [
    {
     "data": {
      "application/javascript": "\nlet my_list = [2, 4, 6, 8, 10];//These are the #s that will be shown on the list\nconst length = my_list.length; //length will be 5\nconsole.log(my_list);//This will show the given list \n",
      "text/plain": [
       "<IPython.core.display.Javascript object>"
      ]
     },
     "metadata": {},
     "output_type": "display_data"
    }
   ],
   "source": [
    "%%js\n",
    "\n",
    "let my_list = [2, 4, 6, 8, 10];//These are the #s that will be shown on the list\n",
    "const length = my_list.length; //length will be 5\n",
    "console.log(my_list);//This will show the given list "
   ]
  },
  {
   "cell_type": "markdown",
   "metadata": {},
   "source": [
    "## Finding the Minimum Value:\n",
    "You can use Math.min() to help you find the minimum value in an array."
   ]
  },
  {
   "cell_type": "code",
   "execution_count": 13,
   "metadata": {
    "vscode": {
     "languageId": "javascript"
    }
   },
   "outputs": [
    {
     "data": {
      "application/javascript": "let numbers = [5, 8, 2, 1, 9];\nlet minValue = Math.min(...numbers);  // Spread operator to pass elements as arguments\nconsole.log(minValue);  // Output: 1\n",
      "text/plain": [
       "<IPython.core.display.Javascript object>"
      ]
     },
     "metadata": {},
     "output_type": "display_data"
    }
   ],
   "source": [
    "%%js\n",
    "let numbers = [5, 8, 2, 1, 9];\n",
    "let minValue = Math.min(...numbers);  // Spread operator to pass elements as arguments\n",
    "console.log(minValue);  // Output: 1"
   ]
  },
  {
   "cell_type": "markdown",
   "metadata": {},
   "source": [
    "## Finding an Element in an Array:\n",
    "To see if an element exists in an array you can use Array.prototype.includes()"
   ]
  },
  {
   "cell_type": "code",
   "execution_count": 14,
   "metadata": {
    "vscode": {
     "languageId": "javascript"
    }
   },
   "outputs": [
    {
     "data": {
      "application/javascript": "let fishes = ['fish0', 'fish1', 'fish2'];\nlet hasfish0 = fishes.includes('fish0');  // Check if 'fish0' is in the array\nconsole.log(hasfish0);  // Output: true\n",
      "text/plain": [
       "<IPython.core.display.Javascript object>"
      ]
     },
     "metadata": {},
     "output_type": "display_data"
    }
   ],
   "source": [
    "%%js \n",
    "let fishes = ['fish0', 'fish1', 'fish2'];\n",
    "let hasfish0 = fishes.includes('fish0');  // Check if 'fish0' is in the array\n",
    "console.log(hasfish0);  // Output: true"
   ]
  },
  {
   "cell_type": "markdown",
   "metadata": {},
   "source": [
    "## Popcorn Hack #3\n",
    "Create a length of a list and print it in console.log()\n",
    "\n",
    "1. Create a variable called \"list\" or \"my_list_2\"\n",
    "2. Create a list of numbers or words in the brackets [] \n",
    "        Exp: let your_list = [3, 7, 9, 21];\n",
    "3. Create a const length = your_list.length;\n",
    "4. After all of that, finally print it out in console.log()\n",
    "        Exp: console.log(your_list);"
   ]
  },
  {
   "cell_type": "code",
   "execution_count": 2,
   "metadata": {
    "vscode": {
     "languageId": "javascript"
    }
   },
   "outputs": [
    {
     "data": {
      "application/javascript": "\nlet list = [10, 11, 5, 2, 3]; // create an variable \n\nconst length = list.length; // create a const length\n\nconsole.log(list); // print out your list in console\n\n// Not even requesting us to print the length? Ok!\n// Print the length of the list\nconsole.log(`Length of the list: ${length}`);\n\n// Find the minimum value in the list\nconst minValue = Math.min(...list);\nconsole.log(`Minimum value in the list: ${minValue}`);\n\n// Check if a specific element exists in the list\nconst elementToFind = 5;\nconst hasElement = list.includes(elementToFind);\nconsole.log(`Does the list contain ${elementToFind}? ${hasElement}`);\n",
      "text/plain": [
       "<IPython.core.display.Javascript object>"
      ]
     },
     "metadata": {},
     "output_type": "display_data"
    }
   ],
   "source": [
    "%%js   \n",
    "\n",
    "let list = [10, 11, 5, 2, 3]; // create an variable \n",
    "\n",
    "const length = list.length; // create a const length\n",
    "\n",
    "console.log(list); // print out your list in console\n",
    "\n",
    "// Not even requesting us to print the length? Ok!\n",
    "// Print the length of the list\n",
    "console.log(`Length of the list: ${length}`);\n",
    "\n",
    "// Find the minimum value in the list\n",
    "const minValue = Math.min(...list);\n",
    "console.log(`Minimum value in the list: ${minValue}`);\n",
    "\n",
    "// Check if a specific element exists in the list\n",
    "const elementToFind = 5;\n",
    "const hasElement = list.includes(elementToFind);\n",
    "console.log(`Does the list contain ${elementToFind}? ${hasElement}`);"
   ]
  }
 ],
 "metadata": {
  "kernelspec": {
   "display_name": "venv",
   "language": "python",
   "name": "python3"
  },
  "language_info": {
   "codemirror_mode": {
    "name": "ipython",
    "version": 3
   },
   "file_extension": ".py",
   "mimetype": "text/x-python",
   "name": "python",
   "nbconvert_exporter": "python",
   "pygments_lexer": "ipython3",
   "version": "3.12.3"
  }
 },
 "nbformat": 4,
 "nbformat_minor": 2
}
