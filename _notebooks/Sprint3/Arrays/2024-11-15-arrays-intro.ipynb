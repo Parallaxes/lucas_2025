{
 "cells": [
  {
   "cell_type": "code",
   "execution_count": null,
   "metadata": {},
   "outputs": [],
   "source": [
    "---\n",
    "comments: true\n",
    "layout: post\n",
    "title: JavaScript Lists lesson!\n",
    "description: The fundamentals of making lists!\n",
    "author: Dylan Cheadle\n",
    "permalink: /csse/javascript/fundamentals/classes/intro/\n",
    "categories: [JavaScript Fundamentals]\n",
    "---"
   ]
  },
  {
   "cell_type": "markdown",
   "metadata": {},
   "source": [
    "## **Hello! Welcome to my silly little lesson about lists!**\n",
    "\n",
    "Now, you are probably wondering, \"Hey! What is a list?\" I was just getting into that, so maybe, shut up and listen.\n",
    "\n",
    "### **What is a list?**\n",
    "A list is a data structure that is used to store an ordered collection of items. Now, for a question none of you are probably asking, \"Hey! How often are Lists used?\" And my friend, they are used alot. In fact, they are one of the most common data types across all the different coding languages! Long story short, you will need to use them, so learn to like em'!"
   ]
  },
  {
   "cell_type": "markdown",
   "metadata": {},
   "source": [
    "\n",
    "\n",
    "\n",
    "\n",
    "\n",
    "\n",
    "\n",
    "\n",
    "\n",
    "## **Lists 101 pt.1**\n",
    "- **How to make a list**\n",
    " Making a list is simple! What you want to know first is \"aList[i]\".\n",
    "\n",
    " - \"aList[i]\" can be broken into two parts: aList, and the [i].\n",
    "\n",
    " - \"aList\" is the name of your list. So, if you want to make a list of, say, your favorite foods, you would name your list \"favorite_foods\". It's that simple!\n",
    "\n",
    " - Next is the whatever this thing is -----> [i]. That right there? That's where uou put the stuff you want to list! So, again, with the favorite foods example, you will replace the [i] with ['pizza', 'ice_cream', 'hamburgers'];\n",
    "\n",
    "  - Remember to always use underscores when there is a space, or as an alternative, instead of formatting it like this: \"let favorite_foods\", you can instead use, \"let favoriteFoods\"\n",
    "\n",
    " - Now, putting this all togeather, it should look like this!:\n",
    " let favorite_foods = ['pizza', 'ice_cream', 'hamburgers'];"
   ]
  },
  {
   "cell_type": "code",
   "execution_count": null,
   "metadata": {
    "vscode": {
     "languageId": "javascript"
    }
   },
   "outputs": [],
   "source": [
    " //Here is an example:\n",
    "\n",
    "let aList = (pizza, ice_cream, hamburgers)\n",
    "\n",
    "// Or, you can use some silly capitalization instead of underscore, like this:\n",
    "\n",
    "let aList = (pizza, iceCream, hamburgers)\n",
    "\n"
   ]
  },
  {
   "cell_type": "markdown",
   "metadata": {},
   "source": [
    "## **Popcorn Hack!!!**\n",
    "\n",
    "That's right! It's time for a popcorn hack!!! So, do you want to make a list, but you feel like you might want to add stuff later, and don't feel like going back into the code to change it? If yes, this hack is for you! All you have to do is:"
   ]
  },
  {
   "cell_type": "code",
   "execution_count": 2,
   "metadata": {
    "vscode": {
     "languageId": "javascript"
    }
   },
   "outputs": [
    {
     "data": {
      "application/javascript": "\nlet aList = []\n\nlet user_input = (\"Enter an item you want (or Enter to quit): \")\n\ndo {\n    userInput = prompt(\"Enter an item you want (or just press Enter to quit):\");\n    if (userInput !== \"\") {\n        aList.push(userInput);\n    }\n} while (userInput !== \"\");\n\nconsole.log(aList)\n",
      "text/plain": [
       "<IPython.core.display.Javascript object>"
      ]
     },
     "metadata": {},
     "output_type": "display_data"
    }
   ],
   "source": [
    "%%js\n",
    "\n",
    "let aList = []\n",
    "\n",
    "let user_input = (\"Enter an item you want (or Enter to quit): \")\n",
    "\n",
    "do {\n",
    "    userInput = prompt(\"Enter an item you want (or just press Enter to quit):\");\n",
    "    if (userInput !== \"\") {\n",
    "        aList.push(userInput);\n",
    "    }\n",
    "} while (userInput !== \"\");\n",
    "\n",
    "console.log(aList)"
   ]
  },
  {
   "cell_type": "markdown",
   "metadata": {},
   "source": [
    "It's that simple!\n",
    "Now, what is happening? I'll break it down.\n",
    "We don't need to talk more about the aList and brackets, so lets move on the the \"USER_INPUT ← (\"Enter an item you want (or Enter to quit): \")\" What is this? It's simple. It is just telling the computer how to put an item into the list. Translated in to normal language it says, \"when USER presses Enter, put [item] into aList.\n",
    "\n",
    " Next! what is,"
   ]
  },
  {
   "cell_type": "code",
   "execution_count": null,
   "metadata": {
    "vscode": {
     "languageId": "javascript"
    }
   },
   "outputs": [],
   "source": [
    "let userInput;\n",
    "\n",
    "do {\n",
    "    userInput = prompt(\"Enter an item you want (or press Enter to quit):\");\n",
    "    if (userInput) {\n",
    "        aList.push(userInput);\n",
    "    }\n",
    "} while (userInput !== \"\");\n"
   ]
  },
  {
   "cell_type": "markdown",
   "metadata": {},
   "source": [
    "This is telling the computer what to do when Enter is pressed, bacically saying to keep on putting the characters into the list until Enter."
   ]
  },
  {
   "cell_type": "markdown",
   "metadata": {},
   "source": [
    "Now, how do you apply this to your game? It's simple! If your game has many different side quests and main quests going on at the same time, or you have quests that take a wile, your players might need a reminder of what to do or where to go! You can use lists to make a task log or task book just in case your player forgets what to do! As homework, make a list that displays 3 quests you want your player to do. **GET TO IT!**"
   ]
  },
  {
   "cell_type": "code",
   "execution_count": 5,
   "metadata": {
    "vscode": {
     "languageId": "javascript"
    }
   },
   "outputs": [
    {
     "data": {
      "application/javascript": "\nlet quests = [\"Learn Rust\", \"Learn Async\", \"Learn WebAssembly\"];\nconsole.log(\"Quests for the player:\");\nquests.forEach((quest, index) => {\n    console.log(`${index + 1}. ${quest}`);\n});\n",
      "text/plain": [
       "<IPython.core.display.Javascript object>"
      ]
     },
     "metadata": {},
     "output_type": "display_data"
    }
   ],
   "source": [
    "%%js\n",
    "\n",
    "let quests = [\"Learn Rust\", \"Learn Async\", \"Learn WebAssembly\"];\n",
    "console.log(\"Quests for the player:\");\n",
    "quests.forEach((quest, index) => {\n",
    "    console.log(`${index + 1}. ${quest}`);\n",
    "});"
   ]
  }
 ],
 "metadata": {
  "kernelspec": {
   "display_name": "venv",
   "language": "python",
   "name": "python3"
  },
  "language_info": {
   "codemirror_mode": {
    "name": "ipython",
    "version": 3
   },
   "file_extension": ".py",
   "mimetype": "text/x-python",
   "name": "python",
   "nbconvert_exporter": "python",
   "pygments_lexer": "ipython3",
   "version": "3.12.3"
  }
 },
 "nbformat": 4,
 "nbformat_minor": 2
}
