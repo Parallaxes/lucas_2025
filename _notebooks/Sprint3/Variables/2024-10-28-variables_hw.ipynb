{
 "cells": [
  {
   "cell_type": "code",
   "execution_count": null,
   "metadata": {
    "vscode": {
     "languageId": "yaml"
    }
   },
   "outputs": [],
   "source": [
    "---\n",
    "comments: True\n",
    "layout: post\n",
    "title: JavaScript Variables Homework\n",
    "description: Homework problems to practice working with JavaScript variables. \n",
    "permalink: /csse/javascript/fundamentals/variables/hw\n",
    "author: na\n",
    "categories: [CSSE JavaScript Fundamentals]\n",
    "---"
   ]
  },
  {
   "cell_type": "markdown",
   "metadata": {},
   "source": [
    "# <span style=\"color: lavender; text-shadow: 2px 2px 5px lavender;\">Variables Homework (Show what you know!) </span>\n",
    "\n",
    "### Homework Problem: Understanding JavaScript Variables \n",
    "\n",
    "### <span style=\"color: pink; text-shadow: 2px 2px 5px pink;\"> Creating Variables</span>\n",
    "\n",
    "\n",
    "1. **Create three variables as an object variable**:\n",
    "   - A variable called `studentName` that stores your name as a string.\n",
    "   - A variable called `age` that stores your age as a number.\n",
    "   - A variable called `isStudent` that stores a boolean value indicating whether you are a student (use `true` or `false`).\n",
    "\n",
    "   2. **Create a function variable that displays that your favorite song is playing**:\n",
    "   \n",
    "      - A variable called `favoriteSong` that stores the name of your favorite song.\n",
    "      - A variable called `songArtist` that stores the song's artist.\n",
    "      - A function called `playFavoriteSong` that logs a message saying \"Now playing [favoriteSong] by [songArtist]\".\n",
    "\n",
    "\n",
    "\n",
    "3. **Using the variables you created**, write a sentence using `console.log()` to display:\n",
    "   - Your name.\n",
    "   - Your age.\n",
    "   - Whether you are a student.\n",
    "   - An output that states that your favorite song is now playing\n",
    "\n",
    "\n",
    "   Example output:\n",
    "My name is [Your Name], I am [Your Age] years old, and it is [true/false] that I am a student. \n",
    "Now playing Champion by Kanye West"
   ]
  },
  {
   "cell_type": "code",
   "execution_count": 3,
   "metadata": {
    "vscode": {
     "languageId": "javascript"
    }
   },
   "outputs": [
    {
     "data": {
      "application/javascript": "\nvar studentName = \"Lucas\";\nvar age = 14;\nvar isStudent = true;\n\nvar favoriteSong = \"Mr. Blue Sky\";\nvar songArtist = \"Electric Light Orchestra\";\n\n// Cool in-line syntax for displaying variable values in text!\nfunction playFavoriteSong(favoriteSong, songArtist) {\n    console.log(`Now playing: ${favoriteSong} by ${songArtist}`);\n}\n\n// Same here, much more readable than concatenation\nconsole.log(`My name is ${studentName} and I am ${age} years old, and it is ${isStudent} that I am a student.`); \nconsole.log(playFavoriteSong(favoriteSong, songArtist));\n\n// Function to update student information\nfunction updateStudentInfo(newName, newAge, newIsStudent) {\n    studentName = newName;\n    age = newAge;\n    isStudent = newIsStudent;\n    console.log(`Updated Info - Name: ${studentName}, Age: ${age}, Is Student: ${isStudent}`);\n}\n\n// Function to change favorite song\nfunction changeFavoriteSong(newSong, newArtist) {\n    favoriteSong = newSong;\n    songArtist = newArtist;\n    console.log(`Favorite song updated to: ${favoriteSong} by ${songArtist}`);\n}\n\n// Function to display student info\nfunction displayStudentInfo() {\n    console.log(`My name is ${studentName} and I am ${age} years old, and it is ${isStudent} that I am a student.`);\n    playFavoriteSong(favoriteSong, songArtist);\n}\n\n// Initial display of student info\ndisplayStudentInfo();\n\n// Example usage of update functions\nupdateStudentInfo(\"Lucas 2\", 15, false);\nchangeFavoriteSong(\"Bohemian Rhapsody\", \"Queen\");\n\n// Display updated info\ndisplayStudentInfo();\n",
      "text/plain": [
       "<IPython.core.display.Javascript object>"
      ]
     },
     "metadata": {},
     "output_type": "display_data"
    }
   ],
   "source": [
    "%%js\n",
    "\n",
    "var studentName = \"Lucas\";\n",
    "var age = 14;\n",
    "var isStudent = true;\n",
    "\n",
    "var favoriteSong = \"Mr. Blue Sky\";\n",
    "var songArtist = \"Electric Light Orchestra\";\n",
    "\n",
    "// Cool in-line syntax for displaying variable values in text!\n",
    "function playFavoriteSong(favoriteSong, songArtist) {\n",
    "    console.log(`Now playing: ${favoriteSong} by ${songArtist}`);\n",
    "}\n",
    "\n",
    "// Same here, much more readable than concatenation\n",
    "console.log(`My name is ${studentName} and I am ${age} years old, and it is ${isStudent} that I am a student.`); \n",
    "console.log(playFavoriteSong(favoriteSong, songArtist));\n",
    "\n",
    "// Function to update student information\n",
    "function updateStudentInfo(newName, newAge, newIsStudent) {\n",
    "    studentName = newName;\n",
    "    age = newAge;\n",
    "    isStudent = newIsStudent;\n",
    "    console.log(`Updated Info - Name: ${studentName}, Age: ${age}, Is Student: ${isStudent}`);\n",
    "}\n",
    "\n",
    "// Function to change favorite song\n",
    "function changeFavoriteSong(newSong, newArtist) {\n",
    "    favoriteSong = newSong;\n",
    "    songArtist = newArtist;\n",
    "    console.log(`Favorite song updated to: ${favoriteSong} by ${songArtist}`);\n",
    "}\n",
    "\n",
    "// Function to display student info\n",
    "function displayStudentInfo() {\n",
    "    console.log(`My name is ${studentName} and I am ${age} years old, and it is ${isStudent} that I am a student.`);\n",
    "    playFavoriteSong(favoriteSong, songArtist);\n",
    "}\n",
    "\n",
    "// Initial display of student info\n",
    "displayStudentInfo();\n",
    "\n",
    "// Example usage of update functions\n",
    "updateStudentInfo(\"Lucas 2\", 15, false);\n",
    "changeFavoriteSong(\"Bohemian Rhapsody\", \"Queen\");\n",
    "\n",
    "// Display updated info\n",
    "displayStudentInfo();"
   ]
  }
 ],
 "metadata": {
  "kernelspec": {
   "display_name": "venv",
   "language": "python",
   "name": "python3"
  },
  "language_info": {
   "codemirror_mode": {
    "name": "ipython",
    "version": 3
   },
   "file_extension": ".py",
   "mimetype": "text/x-python",
   "name": "python",
   "nbconvert_exporter": "python",
   "pygments_lexer": "ipython3",
   "version": "3.12.3"
  }
 },
 "nbformat": 4,
 "nbformat_minor": 2
}
