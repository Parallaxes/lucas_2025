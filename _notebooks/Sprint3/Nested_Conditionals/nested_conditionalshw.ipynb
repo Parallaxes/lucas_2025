{
 "cells": [
  {
   "cell_type": "code",
   "execution_count": null,
   "metadata": {
    "vscode": {
     "languageId": "yaml"
    }
   },
   "outputs": [],
   "source": [
    "---\n",
    "comments: True\n",
    "layout: post\n",
    "title: Nested Conditionals Lessons Hacks\n",
    "description: Nested Conditionals Lessons Hacks\n",
    "permalink: /csse/javascript/fundamentals/nested-conditionals/hw/\n",
    "type: ccc\n",
    "---"
   ]
  },
  {
   "cell_type": "markdown",
   "metadata": {
    "vscode": {
     "languageId": "html"
    }
   },
   "source": [
    "<h2><span style=\"font-family: Ariel; color:#94c4ff\">Homework - Integers, Booleans, AND Random</span></h2>\n",
    "\n",
    "Objective:\n",
    "Write a JavaScript program that randomly assigns a student grade level (from 0 to 12) and outputs the school level the student would be in (kindergarten, elementary, middle, or high school). The program also identifies if the student is in their last year at their current school level.\n",
    "\n",
    "Instructions:\n",
    "\n",
    "Open a JavaScript file (e.g., schoolLevel.js).\n",
    "\n",
    "Generate a Random Grade:\n",
    "\n",
    "Use Math.random() to generate a random number between 0 to 1 and multiply it by 12, which will represent the student’s grade.\n",
    "Round the number to the nearest whole number using Math.round().\n",
    "Store this number in a variable called grade.\n",
    "Print the grade to the console with a message such as, \"You are in ___ grade.\"\n",
    "Determine the School Level:\n",
    "\n",
    "Use if statements to check the value of grade and print which school level the student is in:\n",
    "Kindergarten for grade 0\n",
    "Elementary School for grades 1–5\n",
    "Middle School for grades 6–8\n",
    "High School for grades 9–12\n",
    "For each school level, add an additional check to see if the student is in their final year. If all is done correctly, it will print a message like this, “You will graduate this year from _____.”\n",
    "\n"
   ]
  },
  {
   "cell_type": "markdown",
   "metadata": {
    "vscode": {
     "languageId": "javascript"
    }
   },
   "source": [
    "- Booleans are a data type that can only have two different values True or Flase. \n",
    "- Random generates random values with unpredictable results, usually within a specified range such as 0-1"
   ]
  },
  {
   "cell_type": "code",
   "execution_count": null,
   "metadata": {
    "vscode": {
     "languageId": "javascript"
    }
   },
   "outputs": [],
   "source": [
    "%%js\n",
    "\n",
    "var grade = Math.round(Math.random() * 12);\n",
    "console.log(\"You are in \" + grade + \" grade.\");\n",
    "\n",
    "if (grade === 0) {\n",
    "    console.log(\"Kindergarten\");\n",
    "} else if (grade >= 1 && grade <= 5) {\n",
    "    console.log(\"Elementary School\");\n",
    "    if (grade === 5) {\n",
    "        console.log(\"You will graduate this year from Elementary School.\");\n",
    "    }\n",
    "} else if (grade >= 6 && grade <= 8) {\n",
    "    console.log(\"Middle School\");\n",
    "    if (grade === 8) {\n",
    "        console.log(\"You will graduate this year from Middle School.\");\n",
    "    }\n",
    "} else if (grade >= 9 && grade <= 12) {\n",
    "    console.log(\"High School\");\n",
    "    if (grade === 12) {\n",
    "        console.log(\"You will graduate this year from High School.\");\n",
    "    }\n",
    "}\n",
    "// Check if the student is in an even or odd grade\n",
    "if (grade % 2 === 0) {\n",
    "    console.log(\"You are in an even grade.\");\n",
    "} else {\n",
    "    console.log(\"You are in an odd grade.\");\n",
    "}\n",
    "\n",
    "// Check if the student is in a prime grade\n",
    "function isPrime(num) {\n",
    "    if (num <= 1) return false;\n",
    "    for (let i = 2; i < num; i++) {\n",
    "        if (num % i === 0) return false;\n",
    "    }\n",
    "    return true;\n",
    "}\n",
    "\n",
    "if (isPrime(grade)) {\n",
    "    console.log(\"You are in a prime grade.\");\n",
    "} else {\n",
    "    console.log(\"You are not in a prime grade.\");\n",
    "}\n",
    "\n",
    "// Check if the student is in a grade that is a multiple of 3\n",
    "if (grade % 3 === 0) {\n",
    "    console.log(\"Your grade is a multiple of 3.\");\n",
    "} else {\n",
    "    console.log(\"Your grade is not a multiple of 3.\");\n",
    "}"
   ]
  }
 ],
 "metadata": {
  "kernelspec": {
   "display_name": "venv",
   "language": "python",
   "name": "python3"
  },
  "language_info": {
   "codemirror_mode": {
    "name": "ipython",
    "version": 3
   },
   "file_extension": ".py",
   "mimetype": "text/x-python",
   "name": "python",
   "nbconvert_exporter": "python",
   "pygments_lexer": "ipython3",
   "version": "3.9.6"
  }
 },
 "nbformat": 4,
 "nbformat_minor": 2
}
