{
 "cells": [
  {
   "cell_type": "code",
   "execution_count": null,
   "metadata": {
    "vscode": {
     "languageId": "yaml"
    }
   },
   "outputs": [],
   "source": [
    "---\n",
    "comments: true\n",
    "layout: post\n",
    "title: Booleans lesson \n",
    "description: Booleans lessons project\n",
    "permalink: /first/\n",
    "categories: [Foundation]\n",
    "---"
   ]
  },
  {
   "cell_type": "markdown",
   "metadata": {},
   "source": [
    "#### <span style=\"color: #a955ed; text-shadow: 3px 3px 8px #4682a4; font-weight: bold; font-size: 2em;\">Booleans:</span>\n",
    "### Conecpt of booleans/Main idea \n",
    "Booleans are a data type in JavaScript that represent one of two values: true or false. They are used for logical operations, comparisons, and control flow in programs.\n",
    "#### <span style=\"color: #a955ed; text-shadow: 3px 3px 8px #4682B4; font-weight: bold; font-size: 1.3em;\">What are Booleans:</span>\n",
    "•\tBooleans are simple data types that are either true or false.\n",
    "\n",
    "•\tThey are often used in conditional statements to execute specific blocks of code \n",
    "\n"
   ]
  },
  {
   "cell_type": "markdown",
   "metadata": {},
   "source": [
    "#### <span style=\"color: #a955ed; text-shadow: 3px 3px 8px #4682B4; font-weight: bold; font-size: 1.3em;\">commen use for Booleans:</span>\n",
    "•\tConditional statements: if, else,  structures\n",
    "\n",
    "•\tLoops: while, do...while, and for loops\n",
    "\n",
    "•\tLogical operations: combining conditions using && (AND), || (OR), and ! (NOT)\n",
    "\n",
    "#### <span style=\"color: #a955ed; text-shadow: 3px 3px 8px #4682B4; font-weight: bold; font-size: 1.3em;\">Booleans expressions:</span>\n",
    "A Boolean expression is an expression that evaluates to true or false. Here are a few examples:\n",
    "\n",
    "•\t10 > 5 returns true because 10 is greater than 5.\n",
    "\n",
    "•\t8 === \"8\" returns false because the value is equal but the type is different (number vs. string).\n",
    "\n",
    "•\tisLoggedIn = false; assigns false to the isLoggedIn variable.\n",
    "\n",
    "\n"
   ]
  },
  {
   "cell_type": "markdown",
   "metadata": {},
   "source": [
    "#### <span style=\"color: #a955ed; text-shadow: 3px 3px 8px #4682B4; font-weight: bold; font-size: 1.3em;\">Example:</span>"
   ]
  },
  {
   "cell_type": "code",
   "execution_count": 4,
   "metadata": {
    "vscode": {
     "languageId": "javascript"
    }
   },
   "outputs": [
    {
     "data": {
      "application/javascript": "let isUserLoggedIn = true;\nlet isAdmin = true;\n\nif (isUserLoggedIn && isAdmin)\n{console.log(\"Welcome, Admin!\");}\nelse if (isUserLoggedIn) \n{console.log(\"Welcome, User!\");}\nelse console.log(\"Please log in.\");\n",
      "text/plain": [
       "<IPython.core.display.Javascript object>"
      ]
     },
     "metadata": {},
     "output_type": "display_data"
    }
   ],
   "source": [
    "%%js \n",
    "let isUserLoggedIn = true;\n",
    "let isAdmin = false;\n",
    "\n",
    "if (isUserLoggedIn && isAdmin)\n",
    "{console.log(\"Welcome, Admin!\");}\n",
    "else if (isUserLoggedIn) \n",
    "{console.log(\"Welcome, User!\");}\n",
    "else console.log(\"Please log in.\");\n"
   ]
  },
  {
   "cell_type": "markdown",
   "metadata": {},
   "source": [
    "\n",
    "#### <span style=\"color: #a955ed; text-shadow: 3px 3px 8px #4682B4; font-weight: bold; font-size: 1.3em;\">Popcorn Hack #1: Boolean Check:</span>\n",
    "\n",
    "Create Boolean variables to represent somthing about you\n",
    "\n",
    "example:\n",
    "\n",
    "•\tweather you birthday is today (isBirthday).\n",
    "\n",
    "•\tWhether you have completed your chores (completedChores).\n",
    "\n",
    "•\tWhether it is raining outside (isRaining).\n",
    "Use console.log() to display a sentence for each.\n",
    "\n",
    "(you can use any representation, these are just examples)\n",
    "\n",
    "#### <span style=\"color: #a955ed; text-shadow: 3px 3px 8px #4682B4; font-weight: bold; font-size: 1.1em;\">Example:</span>\n"
   ]
  },
  {
   "cell_type": "code",
   "execution_count": 5,
   "metadata": {
    "vscode": {
     "languageId": "javascript"
    }
   },
   "outputs": [
    {
     "data": {
      "application/javascript": "let isBirthday = false;\nlet completedChores = true;\nlet isRaining = false;\n\nconsole.log(\"Is today your birthday? \" + isBirthday);  // This will print \"Is today your birthday? false\"\nconsole.log(\"Have you completed your chores? \" + completedChores);  // This will print \"Have you completed your chores? true\"\nconsole.log(\"Is it raining outside? \" + isRaining);  // This will print \"Is it raining outside? false\"\n",
      "text/plain": [
       "<IPython.core.display.Javascript object>"
      ]
     },
     "metadata": {},
     "output_type": "display_data"
    }
   ],
   "source": [
    "%%js \n",
    "let isBirthday = false;\n",
    "let completedChores = true;\n",
    "let isRaining = false;\n",
    "\n",
    "console.log(\"Is today your birthday? \" + isBirthday);  // This will print \"Is today your birthday? false\"\n",
    "console.log(\"Have you completed your chores? \" + completedChores);  // This will print \"Have you completed your chores? true\"\n",
    "console.log(\"Is it raining outside? \" + isRaining);  // This will print \"Is it raining outside? false\""
   ]
  },
  {
   "cell_type": "code",
   "execution_count": null,
   "metadata": {
    "vscode": {
     "languageId": "javascript"
    }
   },
   "outputs": [],
   "source": [
    "%%js\n",
    "\n",
    "let isHuman = false;\n",
    "let addiction = false;\n",
    "let dedication = true;\n",
    "let isWorking = true;\n",
    "let hasFreeTime = false;\n",
    "\n",
    "console.log(\"Are you a human? \" + isHuman);  // This will print\n",
    "console.log(\"Do you have an addiction? \" + addiction);  // This will print\n",
    "console.log(\"Are you dedicated to your work? \" + dedication);  // This will print\n",
    "\n",
    "// If-Else hell!\n",
    "if (isHuman && dedication) {\n",
    "    console.log(\"You are a dedicated human.\");\n",
    "} else if (isHuman && !dedication) {\n",
    "    console.log(\"You are a human, but not dedicated.\");\n",
    "} else {\n",
    "    console.log(\"You are not a human.\");\n",
    "}\n",
    "\n",
    "if (isWorking && dedication) {\n",
    "    console.log(\"You are working hard.\");\n",
    "} else if (isWorking && !dedication) {\n",
    "    console.log(\"You are working, but not dedicated.\");\n",
    "} else {\n",
    "    console.log(\"You are not working.\");\n",
    "}\n",
    "\n",
    "if (hasFreeTime && !addiction) {\n",
    "    console.log(\"You have free time and no addiction.\");\n",
    "} else if (hasFreeTime && addiction) {\n",
    "    console.log(\"You have free time but have an addiction.\");\n",
    "} else {\n",
    "    console.log(\"You do not have free time.\");\n",
    "}"
   ]
  }
 ],
 "metadata": {
  "kernelspec": {
   "display_name": "Python 3",
   "language": "python",
   "name": "python3"
  },
  "language_info": {
   "codemirror_mode": {
    "name": "ipython",
    "version": 3
   },
   "file_extension": ".py",
   "mimetype": "text/x-python",
   "name": "python",
   "nbconvert_exporter": "python",
   "pygments_lexer": "ipython3",
   "version": "3.9.6"
  }
 },
 "nbformat": 4,
 "nbformat_minor": 2
}
