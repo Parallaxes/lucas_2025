{
 "cells": [
  {
   "cell_type": "markdown",
   "metadata": {},
   "source": [
    "# <span style=\"color: lavender; text-shadow: 2px 2px 5px lavender;\">Boolean Hacks </span>\n",
    "\n",
    " by Nora, Amal, Jeongjun "
   ]
  },
  {
   "cell_type": "markdown",
   "metadata": {},
   "source": [
    "\n",
    "### <span style=\"color: pink; text-shadow: 2px 2px 5px pink;\">Popcorn Hack 1: Boolean in JavaScript</span> \n",
    "\n",
    "#### Instructions:\n",
    "1. Open a New Cell set its type to Code\n",
    "\n",
    "2. Declare a Boolean Variable:\n",
    "\n",
    "    Create a variable named isStudent.\n",
    "    Assign it a boolean value of true or false.\n",
    "\n",
    "    Example: var isStudent = true; // Change to false to test different scenarios\n",
    "\n",
    "3. Use an if Statement:\n",
    "\n",
    "    Create a conditional statement to check the value of isStudent.\n",
    "\n",
    "4. Log a Message for True Condition:\n",
    "\n",
    "    Inside the if block, log the message \"Welcome, student!\" to the console if isStudent is true.\n",
    "\n",
    "5. Log a Message for False Condition:\n",
    "\n",
    "    Inside the else block, log the message \"Welcome, guest!\" to the console if isStudent is false.\n",
    "6. Run the Code:\n",
    "\n",
    "    Execute the code to see the output in the console based on the value of isStudent.\n",
    "\n",
    " \n"
   ]
  },
  {
   "cell_type": "code",
   "execution_count": 1,
   "metadata": {
    "vscode": {
     "languageId": "javascript"
    }
   },
   "outputs": [
    {
     "data": {
      "application/javascript": "\n// Step 1: Declare a boolean variable\nlet isStudent = true; // Change to false to test different scenarios\n\n// Step 2: Use the boolean in a condition\nif (isStudent) {\n    // Log a message for the true condition\n    console.log(\"Welcome, student!\");\n} else {\n    // Log a message for the false condition\n    console.log(\"Welcome, guest!\");\n}\n// Run the code to see the output\n",
      "text/plain": [
       "<IPython.core.display.Javascript object>"
      ]
     },
     "metadata": {},
     "output_type": "display_data"
    }
   ],
   "source": [
    "%%js\n",
    "\n",
    "// Step 1: Declare a boolean variable\n",
    "let isStudent = true; // Change to false to test different scenarios\n",
    "\n",
    "// Step 2: Use the boolean in a condition\n",
    "if (isStudent) {\n",
    "    // Log a message for the true condition\n",
    "    console.log(\"Welcome, student!\");\n",
    "} else {\n",
    "    // Log a message for the false condition\n",
    "    console.log(\"Welcome, guest!\");\n",
    "}\n",
    "// Run the code to see the output"
   ]
  },
  {
   "cell_type": "markdown",
   "metadata": {},
   "source": [
    "\n",
    "### <span style=\"color: pink; text-shadow: 2px 2px 5px pink;\">Popcorn Hack 2: Boolean in JavaScript</span> \n",
    "\n",
    "#### Instructions:\n",
    "1. Open a New Cell set its type to Code\n",
    "2. Declare Variables:\n",
    "\n",
    "    Create a variable for gpa and set it to a number (e.g., var gpa = 3.5;).\n",
    "    Create a variable for inExtracurriculars and set it to a boolean value (e.g., var inExtracurriculars = true;).\n",
    "\n",
    "3. Use Boolean Operators:\n",
    "\n",
    "    Create a variable named isEligibleForScholarship and use a combination of boolean operators to evaluate eligibility:\n",
    "    Check if gpa is greater than or equal to 3.0 AND if inExtracurriculars is true.\n",
    "\n",
    "4. Log the Result:\n",
    "\n",
    "    Use an if statement to log a message indicating whether the student is eligible for the scholarship based on the value of isEligibleForScholarship.\n",
    "\n",
    "5. Run the Code:\n",
    "\n",
    "    Execute the code to see the output in the console based on the GPA and extracurricular participation."
   ]
  },
  {
   "cell_type": "code",
   "execution_count": 4,
   "metadata": {
    "vscode": {
     "languageId": "javascript"
    }
   },
   "outputs": [
    {
     "data": {
      "application/javascript": "\nlet gpa = 4.0;\nlet inExtracurriculars = true;\nlet isEligibleForScholarship = (gpa >= 3.5) && inExtracurriculars;\n\nconsole.log(\"Is the student eligible for a scholarship?\", isEligibleForScholarship);\nif (isEligibleForScholarship) {\n    console.log(\"Congratulations! You are eligible for the scholarship.\");\n} else {\n    console.log(\"Unfortunately, you are not eligible for the scholarship.\");\n}\n\n// Additional functionality: Check for honors\nlet isHonors = gpa >= 3.8;\nif (isHonors) {\n    console.log(\"You are also eligible for honors recognition.\");\n} else {\n    console.log(\"You are not eligible for honors recognition.\");\n}\n\n// Additional functionality: Check for dean's list\nlet isDeansList = gpa >= 3.9 && inExtracurriculars;\nif (isDeansList) {\n    console.log(\"You are eligible for the dean's list.\");\n} else {\n    console.log(\"You are not eligible for the dean's list.\");\n}\n",
      "text/plain": [
       "<IPython.core.display.Javascript object>"
      ]
     },
     "metadata": {},
     "output_type": "display_data"
    }
   ],
   "source": [
    "%%js\n",
    "\n",
    "let gpa = 4.0;\n",
    "let inExtracurriculars = true;\n",
    "let isEligibleForScholarship = (gpa >= 3.5) && inExtracurriculars;\n",
    "\n",
    "console.log(\"Is the student eligible for a scholarship?\", isEligibleForScholarship);\n",
    "if (isEligibleForScholarship) {\n",
    "    console.log(\"Congratulations! You are eligible for the scholarship.\");\n",
    "} else {\n",
    "    console.log(\"Unfortunately, you are not eligible for the scholarship.\");\n",
    "}\n",
    "\n",
    "// Additional functionality: Check for honors\n",
    "let isHonors = gpa >= 3.8;\n",
    "if (isHonors) {\n",
    "    console.log(\"You are also eligible for honors recognition.\");\n",
    "} else {\n",
    "    console.log(\"You are not eligible for honors recognition.\");\n",
    "}\n",
    "\n",
    "// Additional functionality: Check for dean's list\n",
    "let isDeansList = gpa >= 3.9 && inExtracurriculars;\n",
    "if (isDeansList) {\n",
    "    console.log(\"You are eligible for the dean's list.\");\n",
    "} else {\n",
    "    console.log(\"You are not eligible for the dean's list.\");\n",
    "}"
   ]
  }
 ],
 "metadata": {
  "kernelspec": {
   "display_name": "venv",
   "language": "python",
   "name": "python3"
  },
  "language_info": {
   "codemirror_mode": {
    "name": "ipython",
    "version": 3
   },
   "file_extension": ".py",
   "mimetype": "text/x-python",
   "name": "python",
   "nbconvert_exporter": "python",
   "pygments_lexer": "ipython3",
   "version": "3.12.3"
  }
 },
 "nbformat": 4,
 "nbformat_minor": 2
}
