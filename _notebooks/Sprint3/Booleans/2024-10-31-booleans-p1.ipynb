{
 "cells": [
  {
   "cell_type": "code",
   "execution_count": null,
   "metadata": {
    "vscode": {
     "languageId": "yaml"
    }
   },
   "outputs": [],
   "source": [
    "---\n",
    "comments: True\n",
    "layout: post\n",
    "title: Javascript Boolean Data Type\n",
    "description: Booleans are a data type that can only have one of two values, true or false. In this tutorial, we will learn about the boolean data type in JavaScript.\n",
    "author: Popcorn\n",
    "permalink: /csse/javascript/fundamentals/booleans/p1\n",
    "categories: [CSSE JavaScript Fundamentals]\n",
    "---"
   ]
  },
  {
   "cell_type": "markdown",
   "metadata": {},
   "source": [
    "## INTRODUCTION\n",
    "\n",
    "> Relational operators in JavaScript are used to compare two values, returning a Boolean value (true or false) based on the relationship. Relational operators are extremley similar to math functions such as less than or equal too.\n",
    "\n",
    "### Common Relational Operators\n",
    "==: Equal to, checks if two values are the same (e.g., verifying a password match).\n",
    "\n",
    "!=: Not equal to, checks if two values are different (e.g., ensuring input changes).\n",
    "\n",
    "===: Strict equal to, checks equality and type (e.g., validating exact user ID).\n",
    "\n",
    "!==: Strict not equal to, checks inequality and type (e.g., ensuring different type or value).\n",
    "\n",
    ">: Greater than, left value is larger than the right (e.g., comparing scores or ages).\n",
    "\n",
    "<: Less than, left value is smaller than the right (e.g., setting age limits).\n",
    "\n",
    ">=: Greater than or equal to, left value is larger or equal (e.g., minimum age validation).\n"
   ]
  }
 ],
 "metadata": {
  "kernelspec": {
   "display_name": "venv",
   "language": "python",
   "name": "python3"
  },
  "language_info": {
   "codemirror_mode": {
    "name": "ipython",
    "version": 3
   },
   "file_extension": ".py",
   "mimetype": "text/x-python",
   "name": "python",
   "nbconvert_exporter": "python",
   "pygments_lexer": "ipython3",
   "version": "3.10.12"
  }
 },
 "nbformat": 4,
 "nbformat_minor": 2
}
