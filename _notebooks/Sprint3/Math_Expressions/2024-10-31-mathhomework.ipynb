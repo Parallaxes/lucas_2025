{
 "cells": [
  {
   "cell_type": "code",
   "execution_count": null,
   "metadata": {
    "vscode": {
     "languageId": "yaml"
    }
   },
   "outputs": [],
   "source": [
    "---\n",
    "comments: True\n",
    "layout: post\n",
    "title: Javascript Mathematical Expressions Problems\n",
    "description:  Monster Battle and Attack Game\n",
    "permalink: /csse/javascript/fundamentals/math-expressions/problems\n",
    "author: na\n",
    "categories: [CSSE JavaScript Fundamentals]\n",
    "---"
   ]
  },
  {
   "cell_type": "markdown",
   "metadata": {},
   "source": [
    "## Problem 1: Basic Arithmetic\n",
    "Define two variables, `a` and `b`, with values of your choice. Compute the following operations and log each result to the console:\n",
    "1. Sum of `a` and `b`\n",
    "2. Difference of `a` and `b`\n",
    "3. Product of `a` and `b`\n",
    "4. Quotient of `a` divided by `b`\n",
    "\n",
    "Console.log code \n",
    "\n",
    "console.log(\"Sum:\", a + b);          \n",
    "console.log(\"Difference:\", a - b);   \n",
    "console.log(\"Product:\", a * b);      \n",
    "console.log(\"Quotient:\", a / b);"
   ]
  },
  {
   "cell_type": "code",
   "execution_count": 1,
   "metadata": {
    "vscode": {
     "languageId": "javascript"
    }
   },
   "outputs": [
    {
     "data": {
      "application/javascript": "\nlet a = 5;\nlet b = 10;\n\nconsole.log(a + b);\nconsole.log(a - b);\nconsole.log(a * b);\nconsole.log(a / b);\n",
      "text/plain": [
       "<IPython.core.display.Javascript object>"
      ]
     },
     "metadata": {},
     "output_type": "display_data"
    }
   ],
   "source": [
    "%%js\n",
    "\n",
    "let a = 5;\n",
    "let b = 10;\n",
    "\n",
    "console.log(a + b);\n",
    "console.log(a - b);\n",
    "console.log(a * b);\n",
    "console.log(a / b);"
   ]
  },
  {
   "cell_type": "markdown",
   "metadata": {},
   "source": [
    "## Problem 2: Modulus Operator\n",
    "Define two numbers, `num1` and `num2`. Use the modulus operator `%` to find the remainder when `num1` is divided by `num2`. Log the result to the console.\n",
    "### Instructions:\n",
    "1. Define a variable `num1` (the dividend).\n",
    "2. Define a variable `num2` (the divisor).\n",
    "3. Use the modulus operator `num1 % num2` to calculate the remainder.\n",
    "4. Log the result to the console using `console.log()`.\n",
    " \n",
    "console.log code \n",
    "\n",
    "console.log(\"Remainder:\", YOURVARIABLE (CORRECT MATHEMATICAL OPERATION) YOUROTHERVARIABLE);  // Output: 1"
   ]
  },
  {
   "cell_type": "code",
   "execution_count": 2,
   "metadata": {
    "vscode": {
     "languageId": "javascript"
    }
   },
   "outputs": [
    {
     "data": {
      "application/javascript": "\nlet num1 = 10;\nlet num2 = 5;\n\nconsole.log(\"num1 % num2: \" + (num1 % num2));\n",
      "text/plain": [
       "<IPython.core.display.Javascript object>"
      ]
     },
     "metadata": {},
     "output_type": "display_data"
    }
   ],
   "source": [
    "%%js\n",
    "\n",
    "let num1 = 10;\n",
    "let num2 = 5;\n",
    "\n",
    "console.log(\"num1 % num2: \" + (num1 % num2));"
   ]
  },
  {
   "cell_type": "markdown",
   "metadata": {},
   "source": [
    "## Problem 3: Increment and Decrement\n",
    "Define a variable `count` and set it to an initial value. Increment and then decrement the variable in two different ways:\n",
    "1. Using the `++` and `--` operators.\n",
    "2. Using the `+=` and `-=` operators.\n",
    "Log the result after each operation.\n",
    "### Instructions:\n",
    "1. Define a variable `count` and assign it an initial value (e.g., 10).\n",
    "2. Use `++` to increment the variable by 1 and log the result.\n",
    "3. Use `--` to decrement the variable by 1 and log the result.\n",
    "4. Use `+=` to increment the variable by a specific value and log the result.\n",
    "5. Use `-=` to decrement the variable by a specific value and log the result.\n",
    "6. Log result 3 times (Use these operations to increment/decremnt your number atleast 3 times)\n",
    "### Example:\n",
    "```javascript\n",
    "let count = 10;\n",
    "console.log(\"Initial Count:\", count);  // Output: 10\n",
    "// Increment using ++\n",
    "count++;"
   ]
  },
  {
   "cell_type": "code",
   "execution_count": 5,
   "metadata": {
    "vscode": {
     "languageId": "javascript"
    }
   },
   "outputs": [
    {
     "data": {
      "application/javascript": "\nlet count = 10;\nconsole.log(\"Initial value: \" + count);\n\n// Increment using ++\ncount++;\nconsole.log(\"After increment: \" + count);\n\n// Decrement using --\ncount--;\nconsole.log(\"After decrement: \" + count);\n\n// Increment using +=\ncount += 5;\nconsole.log(\"After addition: \" + count);\n\n// Decrement using -=\ncount -= 5;\nconsole.log(\"After subtraction: \" + count);\n\n// Multiply using *=\ncount *= 2;\nconsole.log(\"After multiplication: \" + count);\n\n// Divide using /=\ncount /= 2;\nconsole.log(\"After division: \" + count);\n\n// Using Math.pow() for exponentiation\ncount = Math.pow(count, 2);\nconsole.log(\"After exponentiation: \" + count);\n\n// Using Math.sqrt() for square root\ncount = Math.sqrt(count);\nconsole.log(\"After square root: \" + count);\n\n// Using Math.random() to add a random number\ncount += Math.random();\nconsole.log(\"After adding a random number: \" + count);\n\n// Using Math.floor() to round down\ncount = Math.floor(count);\nconsole.log(\"After rounding down: \" + count);\n\n// For fun, let's implement Euler's Totient\nfunction gcd(a, b) {\n    if (a == 0) {\n        return b;\n    }\n\n    return gcd(b % a, a);\n}\n\nfunction phi(n) {\n    let result = 1;\n\n    for (let i = 2; i < n; i++) {\n        if (gcd(i, n) == 1) {\n            result++;\n        }\n    }\n\n    return result;\n}\n\nconsole.log(\"Euler's Totient for \" + count + \": \" + phi(count));\n\ncount = 256321;\nconsole.log(\"Euler's Totient for \" + count + \": \" + phi(count));\n",
      "text/plain": [
       "<IPython.core.display.Javascript object>"
      ]
     },
     "metadata": {},
     "output_type": "display_data"
    }
   ],
   "source": [
    "%%js\n",
    "\n",
    "let count = 10;\n",
    "console.log(\"Initial value: \" + count);\n",
    "\n",
    "// Increment using ++\n",
    "count++;\n",
    "console.log(\"After increment: \" + count);\n",
    "\n",
    "// Decrement using --\n",
    "count--;\n",
    "console.log(\"After decrement: \" + count);\n",
    "\n",
    "// Increment using +=\n",
    "count += 5;\n",
    "console.log(\"After addition: \" + count);\n",
    "\n",
    "// Decrement using -=\n",
    "count -= 5;\n",
    "console.log(\"After subtraction: \" + count);\n",
    "\n",
    "// Multiply using *=\n",
    "count *= 2;\n",
    "console.log(\"After multiplication: \" + count);\n",
    "\n",
    "// Divide using /=\n",
    "count /= 2;\n",
    "console.log(\"After division: \" + count);\n",
    "\n",
    "// Using Math.pow() for exponentiation\n",
    "count = Math.pow(count, 2);\n",
    "console.log(\"After exponentiation: \" + count);\n",
    "\n",
    "// Using Math.sqrt() for square root\n",
    "count = Math.sqrt(count);\n",
    "console.log(\"After square root: \" + count);\n",
    "\n",
    "// Using Math.random() to add a random number\n",
    "count += Math.random();\n",
    "console.log(\"After adding a random number: \" + count);\n",
    "\n",
    "// Using Math.floor() to round down\n",
    "count = Math.floor(count);\n",
    "console.log(\"After rounding down: \" + count);\n",
    "\n",
    "// For fun, let's implement Euler's Totient\n",
    "function gcd(a, b) {\n",
    "    if (a == 0) {\n",
    "        return b;\n",
    "    }\n",
    "\n",
    "    return gcd(b % a, a);\n",
    "}\n",
    "\n",
    "function phi(n) {\n",
    "    let result = 1;\n",
    "\n",
    "    for (let i = 2; i < n; i++) {\n",
    "        if (gcd(i, n) == 1) {\n",
    "            result++;\n",
    "        }\n",
    "    }\n",
    "\n",
    "    return result;\n",
    "}\n",
    "\n",
    "console.log(\"Euler's Totient for \" + count + \": \" + phi(count));\n",
    "\n",
    "count = 256321;\n",
    "console.log(\"Euler's Totient for \" + count + \": \" + phi(count));"
   ]
  }
 ],
 "metadata": {
  "kernelspec": {
   "display_name": "venv",
   "language": "python",
   "name": "python3"
  },
  "language_info": {
   "codemirror_mode": {
    "name": "ipython",
    "version": 3
   },
   "file_extension": ".py",
   "mimetype": "text/x-python",
   "name": "python",
   "nbconvert_exporter": "python",
   "pygments_lexer": "ipython3",
   "version": "3.12.3"
  }
 },
 "nbformat": 4,
 "nbformat_minor": 2
}
