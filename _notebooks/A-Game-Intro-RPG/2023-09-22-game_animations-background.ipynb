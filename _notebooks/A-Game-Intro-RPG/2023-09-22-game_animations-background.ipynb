{
 "cells": [
  {
   "attachments": {},
   "cell_type": "raw",
   "metadata": {
    "vscode": {
     "languageId": "raw"
    }
   },
   "source": [
    "---\n",
    "toc: true\n",
    "layout: post\n",
    "title: Background \n",
    "description: A guide to OOP using Javascript using the Background.js code.\n",
    "menu: nav/game_intro.html\n",
    "permalink: /game/intro/background\n",
    "---\n"
   ]
  },
  {
   "cell_type": "markdown",
   "metadata": {},
   "source": [
    "## Popcorn Hack\n",
    "\n",
    "Find your own background for the game, get it running."
   ]
  },
  {
   "attachments": {},
   "cell_type": "markdown",
   "metadata": {},
   "source": [
    "## Setting up a Background\n",
    "\n",
    "This background code focuses on displaying a background within the extents of a canvas.\n",
    "\n",
    "> Using `drawImage` to draw a background image\n",
    "\n",
    "```js\n",
    "ctx.drawImage(this.image, 0, 0, width, height);\n",
    "```\n",
    "\n",
    "- **ctx**: A reference to the canvas.\n",
    "- **ctx.drawImage()**: Runs the draw image method on the canvas.\n",
    "- **parameters to drawImage**\n",
    "  - **this.image**:  Represents an attribute within the object; the image is from JSON object data.\n",
    "  - **0, 0, width, height**: Placement of the image within the canvas.\n",
    "\n",
    "\n",
    "> Using fillRect to draw a background as a colored rectangle (default behavior).\n",
    "\n",
    "```js\n",
    "ctx.fillStyle = '#87CEEB';\n",
    "ctx.fillRect(0, 0, width, height);\n",
    "\n",
    "- **fillStyle**:  Sets a blue-ish hexadecimal color code `#87CEEB` to work with fillRect.\n",
    "- **fillRect**: Uses `fillStyle` to draw a rectangle on the screen.\n",
    "```"
   ]
  },
  {
   "cell_type": "markdown",
   "metadata": {},
   "source": [
    "## OOP parts of Background\n",
    "\n",
    "In Object-Oriented programming you will have dependencies, a constructor, attributes, method and exports."
   ]
  },
  {
   "cell_type": "markdown",
   "metadata": {},
   "source": [
    "### Depenencies\n",
    "\n",
    "Dependencies are external modules that contain methods or attributes that your class relies on.\n",
    "\n",
    "> The backgrouund depends on canvas context, innerWidth, and innerHeight\n",
    "\n",
    "```js\n",
    "import GameEnv from './GameEnv.js';\n",
    "\n",
    "export class Background {\n",
    "\n",
    "// ... other code\n",
    "\n",
    "draw() {\n",
    "    const ctx = GameEnv.ctx; // canvas context\n",
    "    const width = GameEnv.innerWidth; // width of the game within the context of the web page\n",
    "    const height = GameEnv.innerHeight; // height of the game within the context of the web page\n",
    "```"
   ]
  },
  {
   "cell_type": "markdown",
   "metadata": {},
   "source": [
    "### Constructor and Attributes\n",
    "\n",
    "The constructor initializes the object and sets up its attributes, specifically the image properties.\n",
    "\n",
    "> A constructor instantiates an object of the class with its customized attributes.\n",
    "\n",
    "```js\n",
    "export class Background {\n",
    "    constructor(imageSrc = null) { // receives a JSON object for the image, defaults to null if not provided\n",
    "        if (imageSrc) {\n",
    "            this.image = new Image();\n",
    "            this.image.src = imageSrc.src; // source for the image used in drawImage()\n",
    "        } else {\n",
    "            this.image = null; // no image, which will be used in fillRect()\n",
    "        }\n",
    "    }\n",
    "}"
   ]
  },
  {
   "cell_type": "markdown",
   "metadata": {},
   "source": [
    "### Methods\n",
    "\n",
    "Methods are functions that define the behavior of the object. In the game, the `draw()` method is called from `gameLoop`.\n",
    "\n",
    "> A method encapsulates logic related to the class.\n",
    "\n",
    "```js\n",
    "draw() {\n",
    "    const ctx = GameEnv.ctx;\n",
    "    const width = GameEnv.innerWidth;\n",
    "    const height = GameEnv.innerHeight;\n",
    "\n",
    "    if (this.image) {\n",
    "        // Draw the background image scaled to the canvas size\n",
    "        ctx.drawImage(this.image, 0, 0, width, height);\n",
    "    } else {\n",
    "        // Fill the canvas with a blue color if no background image is provided\n",
    "        ctx.fillStyle = '#87CEEB';\n",
    "        ctx.fillRect(0, 0, width, height);\n",
    "    }\n",
    "}"
   ]
  },
  {
   "cell_type": "markdown",
   "metadata": {},
   "source": [
    "### Exports\n",
    "\n",
    "Exports make your class available for use in other modules.\n",
    "\n",
    "> An export is used to share the `Background` class with the game loop.\n",
    "\n",
    "```js\n",
    "export default Background;"
   ]
  }
 ],
 "metadata": {
  "kernelspec": {
   "display_name": "base",
   "language": "python",
   "name": "python3"
  },
  "language_info": {
   "codemirror_mode": {
    "name": "ipython",
    "version": 3
   },
   "file_extension": ".py",
   "mimetype": "text/x-python",
   "name": "python",
   "nbconvert_exporter": "python",
   "pygments_lexer": "ipython3",
   "version": "3.12.5"
  },
  "orig_nbformat": 4
 },
 "nbformat": 4,
 "nbformat_minor": 2
}
