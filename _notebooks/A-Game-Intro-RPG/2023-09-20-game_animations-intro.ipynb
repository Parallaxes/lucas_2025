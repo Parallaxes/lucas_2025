{
 "cells": [
  {
   "cell_type": "raw",
   "metadata": {
    "vscode": {
     "languageId": "raw"
    }
   },
   "source": [
    "---\n",
    "toc: true\n",
    "layout: post\n",
    "title: Gaming Intro\n",
    "description: An intro to game control, sprite sheets, image backgrounds, and more.\n",
    "menu: nav/game_intro.html\n",
    "permalink: /game/intro\n",
    "courses: { csse: {week: 5} }\n",
    "type: ccc\n",
    "author: Ekamjot Kaire\n",
    "---"
   ]
  },
  {
   "cell_type": "markdown",
   "metadata": {},
   "source": [
    "## Overview\n",
    "\n",
    "Animated characters, objects, or backgrounds have been an essential part of videogames. Many iconic games, such as Super Mario Bros and Sonic the Hedgehog, have used sprite animation to bring their characters to life, and make their products more engaging and visually appealing. This blog is a brief exploration of how javascript can be used to create your own simple animations using sprites. We'll also talk about how your animations can be made more dynamic, and adapt to user inputs\n",
    "\n",
    "## Spritesheet\n",
    "\n",
    "> Animation is achieved by quickly sequencing through a series of still images, which when put together, allow the images to appear as if they are moving.\n",
    "\n",
    "![strobe]({{site.baseurl}}/images/Prof._Stampfers_Stroboscopische_Scheibe_No._X.gif)\n",
    "\n",
    "In order to create the animation, you need to find an image which contains each individual frame side by side (like shown below) also known as a spritesheet. The code will then sequence through each frame to create the animation.  It is an option to make your own, many students have used [Pixel Art](https://www.pixilart.com/)\n",
    "\n",
    "Below is an example spritesheet, showing 4 different kinds of animation\n",
    "\n",
    "![turtle]({{site.baseurl}}/images/rpg/turtle.png)\n",
    "\n",
    "> Turt;e Search using: [sprite turtle](https://www.bing.com/images/search?q=sprite+turtles&qpvt=sprite+turtles&form=IGRE&first=1)\n",
    "\n",
    "## Resources for Public Sprites\n",
    "\n",
    "[OpenGameArt.org](https://opengameart.org/): An excellent resource for free and open-source game assets, including sprite sheets. It offers a wide range of sprites for various game genres.\n",
    "\n",
    "[Kenney.nl](https://kenney.nl/): A vast collection of free game assets, including sprites, textures, and sound effects. It's a great place to find sprite sheets for both 2D and 3D games.\n",
    "\n",
    "[itch.io](https://itch.io/): A platform that hosts indie games and game development resources. You can find many game assets, including sprite sheets, created by independent artists.\n",
    "\n",
    "[GameDev Market](https://www.gamedevmarket.net/): This is a marketplace for game assets, including sprites. While many assets are paid, you can also find free assets from time to time.\n",
    "\n",
    "[DeviantArt](https://www.deviantart.com/): Some artists on DeviantArt share their game assets, including sprite sheets, for free. Be sure to check the usage rights and give proper credit to the artists.\n",
    "\n",
    "## Resources to Build Your Own Sprites\n",
    "\n",
    "Graphic Design Software: Popular graphic design software like [Adobe Photoshop](https://www.adobe.com/products/photoshop.html), [Adobe Illustrator](https://www.adobe.com/products/illustrator.html), or [GIMP](https://www.gimp.org/) (free) can be used to create and edit sprites. These tools offer powerful features for creating pixel art and animations.\n",
    "\n",
    "Pixel Art Software: Consider using specialized pixel art software like [Aseprite](https://www.aseprite.org), [Pyxel Edit](https://pyxeledit.com), or [GraphicsGale](https://graphicsgale.com/us/). These tools are designed specifically for creating pixel art and animations.\n",
    "\n",
    "Online Pixel Art Editors: There are various online pixel art editors that are beginner-friendly, such as [Piskel](https://www.piskelapp.com) and [Lospec Pixel Editor](https://lospec.com/pixel-editor/). These tools are accessible through web browsers and are suitable for creating simple sprites.\n",
    "\n",
    "Tutorials and Courses: To  learn how to create sprites, there are online tutorials and courses. Websites like [Udemy](https://www.udemy.com), [Coursera](https://www.coursera.org), and YouTube offer many tutorials on pixel art and sprite animation.\n"
   ]
  }
 ],
 "metadata": {
  "language_info": {
   "name": "python"
  }
 },
 "nbformat": 4,
 "nbformat_minor": 2
}
