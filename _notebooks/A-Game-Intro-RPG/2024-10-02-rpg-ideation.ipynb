{
 "cells": [
  {
   "cell_type": "code",
   "execution_count": null,
   "metadata": {
    "vscode": {
     "languageId": "yaml"
    }
   },
   "outputs": [],
   "source": [
    "---\n",
    "toc: true\n",
    "layout: post\n",
    "title: RPG Game Ideation \n",
    "description: Storage of all the ideation for the RPG game\n",
    "menu: nav/docs.html\n",
    "permalink: /docs/rpg-ideation/\n",
    "---"
   ]
  },
  {
   "cell_type": "markdown",
   "metadata": {},
   "source": [
    "# RPG Game Ideation\n",
    "The main idea for my personal ideation is a game like Nova Drift\n",
    "\n",
    "![Nova Drift](https://media.tenor.com/IUu1vRhxptcAAAAM/novadrift-nova.gif)\n",
    "\n",
    "The features of which include:\n",
    "- Space combat! The player is controlled my the cursor (with a lerp effect, I presume).\n",
    "- Wave based combat that includes a vast variety of weapons \n",
    "\n",
    "    ![Combat](https://i.imgur.com/TglvBTN.gif)\n",
    "\n",
    "- Upgrades to weapons, shields, ship + skill tree!\n",
    "\n",
    "    ![Upgrades](https://i.imgur.com/BMSoGsG.gif)\n",
    "\n",
    "- Boss fights\n",
    "\n",
    "    ![Boss fight](https://media.tenor.com/quhSKQxPdwUAAAAM/nova-drift-novadrift.gif)\n",
    "\n",
    "\n",
    "And I know you're probably asking: \"How in the world are you going to do that?\"\n",
    "\n",
    "My answer to that is, well, I have no idea. I absolutely hate game development with JavaScript and how fickle web hosted games are, but I digress. I've made a bit of progress on the first step and such, which you can demo for yourself on the [game page](https://parallaxes.github.io/lucas_2025/rpg/)\n",
    "\n",
    "\n",
    "\n",
    "\n",
    "\n",
    "\n",
    "The dream:\n",
    "\n",
    "![Dream](https://cdn.akamai.steamstatic.com/steam/apps/1829920/extras/AR_GIF_Gameplay01.gif?t=1654120415)\n",
    "\n",
    "\n",
    "As for the characters...\n",
    "\n",
    "# Characters\n",
    "\n",
    "## Player\n",
    "Our current working sprite is a \"cursor-like\" triangle that rotates based on the velocity of the player's cursor (no animation required). When adding upgrades, we are planning on simply adding some more details and drawing those sprites again with the rotation method.\n",
    "\n",
    "## Polaris (Enemy 1)\n",
    "Basically a simple spacecraft that tracks the player and attempts to ram itself into the player.\n",
    "\n",
    "## XALLARAP (WIP)\n",
    "We talk to this NPC in between rounds (when selecting upgrades) for lore reasons.\n",
    "\n",
    "\n",
    "\n",
    "![The other dream](https://media1.tenor.com/m/Zv5THhrIjsgAAAAC/boy-kisser-boykisser.gif)"
   ]
  }
 ],
 "metadata": {
  "language_info": {
   "name": "python"
  }
 },
 "nbformat": 4,
 "nbformat_minor": 2
}
