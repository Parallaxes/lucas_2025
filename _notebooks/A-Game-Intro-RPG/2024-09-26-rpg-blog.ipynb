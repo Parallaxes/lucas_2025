{
 "cells": [
  {
   "cell_type": "code",
   "execution_count": null,
   "metadata": {
    "vscode": {
     "languageId": "yaml"
    }
   },
   "outputs": [],
   "source": [
    "---\n",
    "toc: true\n",
    "layout: post\n",
    "title: RPG Game Blog \n",
    "description: RPG Game development blog\n",
    "menu: nav/docs.html\n",
    "permalink: /docs/rpg-blog/\n",
    "---"
   ]
  },
  {
   "cell_type": "code",
   "execution_count": null,
   "metadata": {
    "vscode": {
     "languageId": "yaml"
    }
   },
   "outputs": [],
   "source": []
  },
  {
   "cell_type": "markdown",
   "metadata": {},
   "source": [
    "# Setting up the project\n",
    "\n",
    "1. Clone the project from the main, base repository using the template (found at `portfolio_2025`). This should also pull the dependencies for the game:\n",
    "- `_config.yaml`: Reference `navigation/rpg.md` for navigation.\n",
    "- `assets/js/rpg/`: Contains the JavaScript files for the game.\n",
    "- `images/rpg`: Contains image assests for the game.\n",
    "- `navigation/rpg.md`: File that loads the game on the site.\n",
    "\n",
    "2. Save all the files and test by runnning\n",
    "    ```console\n",
    "    make\n",
    "    ```\n",
    "    This should generate an output like this:\n",
    "    ```console\n",
    "    (venv) root@ASOOSV2:~/nighthawk/lucas_2025# make\n",
    "    Stopping server...\n",
    "    Stopping logging process...\n",
    "    Starting server...\n",
    "    Server PID: 8481\n",
    "    Terminal logging starting, watching server...\n",
    "    Server started in 15 seconds\n",
    "    Configuration file: /root/nighthawk/lucas_2025/_config.yml\n",
    "    To use retry middleware with Faraday v2.0+, install `faraday-retry` gem\n",
    "                Source: /root/nighthawk/lucas_2025\n",
    "        Destination: /root/nighthawk/lucas_2025/_site\n",
    "    Incremental build: disabled. Enable with --incremental\n",
    "        Generating... \n",
    "        Remote Theme: Using theme jekyll/minima\n",
    "                        done in 11.354 seconds.\n",
    "                        Auto-regeneration may not work on some Windows versions.\n",
    "                        Please see: https://github.com/Microsoft/BashOnWindows/issues/216\n",
    "                        If it does not work, please upgrade Bash on Windows or run Jekyll with --no-watch.\n",
    "    Auto-regeneration: enabled for '/root/nighthawk/lucas_2025'\n",
    "            ** ERROR: directory is already being watched! **\n",
    "\n",
    "            Directory: /root/nighthawk/lucas_2025/venv/lib\n",
    "\n",
    "            is already being watched through: /root/nighthawk/lucas_2025/venv/lib\n",
    "\n",
    "            MORE INFO: https://github.com/guard/listen/blob/master/README.md\n",
    "        Server address: http://127.0.0.1:4100/lucas_2025/\n",
    "    (venv) root@ASOOSV2:~/nighthawk/lucas_2025#\n",
    "```\n"
   ]
  }
 ],
 "metadata": {
  "language_info": {
   "name": "python"
  }
 },
 "nbformat": 4,
 "nbformat_minor": 2
}
