{
 "cells": [
  {
   "cell_type": "code",
   "execution_count": null,
   "metadata": {
    "vscode": {
     "languageId": "yaml"
    }
   },
   "outputs": [],
   "source": [
    "---\n",
    "toc: true\n",
    "layout: post\n",
    "title: RPG Game Documentation \n",
    "description: Storage of all the documentation for the RPG game\n",
    "menu: nav/home.html\n",
    "permalink: /docs/\n",
    "---"
   ]
  },
  {
   "cell_type": "markdown",
   "metadata": {},
   "source": [
    "# JSON Objects Popcorn Hacks\n",
    "> A guide on simple parallax background animations using Javascript, and how to implement them into games\n",
    "\n",
    "Define the purpose of the files in the RPG games. Using the Anatomy section, describe the RPG Game files in your own words:\n",
    "\n",
    "- rpg.md: Defines … and starts …\n",
    "- GameControl.js: Manages …\n",
    "- GameEnv.js: Defines …\n",
    "- Background.js: Handles …\n",
    "- Player.js: Handles …\n",
    "\n",
    "****\n",
    "\n",
    "## Hack\n",
    "`rpg.md` is defines data for all assests in the game/renders`<canvas></canvas>` and starts the game.\n",
    "\n",
    "`GameControl.js` manages -- as the name suggests -- the game. That is, it manages the start, game loop, and resizing of the game.\n",
    "\n",
    "`GameEnv.js` manages the game environment: creation of the canvas, sizing of the canvas + properties of the canvas.\n",
    "\n",
    "`Background.js` handles creation of the background.\n",
    "\n",
    "`Player.js` handles the creation of the player.\n",
    "\n",
    "****"
   ]
  },
  {
   "cell_type": "markdown",
   "metadata": {},
   "source": [
    "# Data Definition > Key-Value Definition\n",
    "A JSON Object is a very common “Data Structure” used to represent data.\n",
    "\n",
    "> A JSON Object is a formation of key-valure pair.\n",
    "\n",
    "As a popcord hack replace the code in two cells with “your name” and other vitals as the values in the key-value pairs.\n",
    "\n",
    "****\n",
    "## Hack"
   ]
  },
  {
   "cell_type": "code",
   "execution_count": 2,
   "metadata": {
    "vscode": {
     "languageId": "javascript"
    }
   },
   "outputs": [
    {
     "data": {
      "application/javascript": "\nconst name = {name: 'Lucas M'}\nconsole.log(name.name)\n\nelement.append(name.name)\n",
      "text/plain": [
       "<IPython.core.display.Javascript object>"
      ]
     },
     "metadata": {},
     "output_type": "display_data"
    }
   ],
   "source": [
    "%%js\n",
    "\n",
    "const name = {name: 'Lucas M'} // Added my name\n",
    "console.log(name.name)\n",
    "\n",
    "element.append(name.name)"
   ]
  },
  {
   "cell_type": "code",
   "execution_count": 3,
   "metadata": {
    "vscode": {
     "languageId": "javascript"
    }
   },
   "outputs": [
    {
     "data": {
      "application/javascript": "\n// Updated with my data\nconst person = {\n    firstName: \"Lucas\",\n    lastName: \"M\",\n    age: 14,\n    fullName: function() {\n        return this.firstName + \" \" + this.lastName;\n    }\n};\n\n// Display data from the object to the console\nconsole.log(person.firstName)\nconsole.log(person.lastName)\nconsole.log(person.fullName());\n// Display data from the object to jupyter notebook \nelement.append(person.fullName());\n",
      "text/plain": [
       "<IPython.core.display.Javascript object>"
      ]
     },
     "metadata": {},
     "output_type": "display_data"
    }
   ],
   "source": [
    "%%js\n",
    "\n",
    "// Updated with my data\n",
    "const person = {\n",
    "    firstName: \"Lucas\",\n",
    "    lastName: \"M\",\n",
    "    age: 14,\n",
    "    fullName: function() {\n",
    "        return this.firstName + \" \" + this.lastName;\n",
    "    }\n",
    "};\n",
    "\n",
    "// Display data from the object to the console\n",
    "console.log(person.firstName)\n",
    "console.log(person.lastName)\n",
    "console.log(person.fullName());\n",
    "// Display data from the object to jupyter notebook \n",
    "element.append(person.fullName());"
   ]
  },
  {
   "cell_type": "markdown",
   "metadata": {},
   "source": [
    "# Background\n",
    "> A guide to OOP using Javascript using the Background.js code.\n",
    "****\n",
    "\n",
    "## Popcorn Hack\n",
    "Find your own background for the game, get it running.\n",
    "\n",
    "Done! You can view this on the game page."
   ]
  }
 ],
 "metadata": {
  "kernelspec": {
   "display_name": "Python 3",
   "language": "python",
   "name": "python3"
  },
  "language_info": {
   "codemirror_mode": {
    "name": "ipython",
    "version": 3
   },
   "file_extension": ".py",
   "mimetype": "text/x-python",
   "name": "python",
   "nbconvert_exporter": "python",
   "pygments_lexer": "ipython3",
   "version": "3.10.12"
  }
 },
 "nbformat": 4,
 "nbformat_minor": 2
}
